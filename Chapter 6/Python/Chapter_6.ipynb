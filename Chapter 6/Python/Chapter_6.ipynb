{
  "nbformat": 4,
  "nbformat_minor": 0,
  "metadata": {
    "kernelspec": {
      "display_name": "Python 3",
      "language": "python",
      "name": "python3"
    },
    "language_info": {
      "codemirror_mode": {
        "name": "ipython",
        "version": 3
      },
      "file_extension": ".py",
      "mimetype": "text/x-python",
      "name": "python",
      "nbconvert_exporter": "python",
      "pygments_lexer": "ipython3",
      "version": "3.6.5"
    },
    "colab": {
      "name": "Chapter 6.ipynb",
      "provenance": [],
      "collapsed_sections": []
    }
  },
  "cells": [
    {
      "cell_type": "markdown",
      "metadata": {
        "id": "IfqxwnoXxxyA",
        "colab_type": "text"
      },
      "source": [
        "# Chapter 6 - Linear Model Selection and Regularization"
      ]
    },
    {
      "cell_type": "markdown",
      "metadata": {
        "id": "dMKzRpnbxxyA",
        "colab_type": "text"
      },
      "source": [
        "- [Lab 2: Ridge Regression](#6.6.1-Ridge-Regression)\n",
        "- [Lab 2: The Lasso](#6.6.2-The-Lasso)\n",
        "- [Lab 3: Principal Components Regression](#6.7.1-Principal-Components-Regression)\n",
        "- [Lab 3: Partial Least Squares](#6.7.2-Partial-Least-Squares)"
      ]
    },
    {
      "cell_type": "code",
      "metadata": {
        "id": "tNU6KY1KyXmU",
        "colab_type": "code",
        "colab": {
          "base_uri": "https://localhost:8080/",
          "height": 193
        },
        "outputId": "74842975-cdf2-462d-e251-91b5da5b9180"
      },
      "source": [
        "!pip install glmnet # install glmnet before import"
      ],
      "execution_count": 2,
      "outputs": [
        {
          "output_type": "stream",
          "text": [
            "Collecting glmnet\n",
            "\u001b[?25l  Downloading https://files.pythonhosted.org/packages/2f/6b/b85e409f5084b4f436c6518d4c33195ac4ca03804b79100dd9f8e2a1304d/glmnet-2.2.1-cp36-cp36m-manylinux2010_x86_64.whl (1.6MB)\n",
            "\u001b[K     |████████████████████████████████| 1.6MB 4.3MB/s \n",
            "\u001b[?25hRequirement already satisfied: scikit-learn>=0.18.0 in /usr/local/lib/python3.6/dist-packages (from glmnet) (0.22.2.post1)\n",
            "Requirement already satisfied: scipy>=0.14.1 in /usr/local/lib/python3.6/dist-packages (from glmnet) (1.4.1)\n",
            "Requirement already satisfied: numpy>=1.9.2 in /usr/local/lib/python3.6/dist-packages (from glmnet) (1.18.5)\n",
            "Requirement already satisfied: joblib>=0.14.1 in /usr/local/lib/python3.6/dist-packages (from glmnet) (0.16.0)\n",
            "Installing collected packages: glmnet\n",
            "Successfully installed glmnet-2.2.1\n"
          ],
          "name": "stdout"
        }
      ]
    },
    {
      "cell_type": "code",
      "metadata": {
        "id": "rR0MXMJxxxyA",
        "colab_type": "code",
        "colab": {}
      },
      "source": [
        "# %load ../standard_import.txt\n",
        "import pandas as pd\n",
        "import numpy as np\n",
        "import matplotlib.pyplot as plt\n",
        "import seaborn as sns\n",
        "\n",
        "import glmnet as gln\n",
        "\n",
        "from sklearn.preprocessing import scale \n",
        "from sklearn import model_selection\n",
        "from sklearn.linear_model import LinearRegression, Ridge, RidgeCV, Lasso, LassoCV\n",
        "from sklearn.decomposition import PCA\n",
        "from sklearn.cross_decomposition import PLSRegression\n",
        "from sklearn.model_selection import KFold, cross_val_score\n",
        "from sklearn.metrics import mean_squared_error\n",
        "\n",
        "%matplotlib inline\n",
        "plt.style.use('seaborn-white')"
      ],
      "execution_count": 3,
      "outputs": []
    },
    {
      "cell_type": "markdown",
      "metadata": {
        "id": "-zNkd0qNxxzk",
        "colab_type": "text"
      },
      "source": [
        "# Lab 2"
      ]
    },
    {
      "cell_type": "code",
      "metadata": {
        "id": "N5cKpvPPxxzk",
        "colab_type": "code",
        "colab": {
          "base_uri": "https://localhost:8080/",
          "height": 486
        },
        "outputId": "fdd0139f-6e4d-475a-dfc5-8a699504947f"
      },
      "source": [
        "# In R, I exported the dataset from package 'ISLR' to a csv file.\n",
        "df = pd.read_csv('https://raw.githubusercontent.com/borisgarbuzov/schulich_data_science_1/master/Data/Hitters.csv', index_col=0).dropna()\n",
        "df.index.name = 'Player'\n",
        "df.info()"
      ],
      "execution_count": 5,
      "outputs": [
        {
          "output_type": "stream",
          "text": [
            "<class 'pandas.core.frame.DataFrame'>\n",
            "Index: 263 entries, -Alan Ashby to -Willie Wilson\n",
            "Data columns (total 20 columns):\n",
            " #   Column     Non-Null Count  Dtype  \n",
            "---  ------     --------------  -----  \n",
            " 0   AtBat      263 non-null    int64  \n",
            " 1   Hits       263 non-null    int64  \n",
            " 2   HmRun      263 non-null    int64  \n",
            " 3   Runs       263 non-null    int64  \n",
            " 4   RBI        263 non-null    int64  \n",
            " 5   Walks      263 non-null    int64  \n",
            " 6   Years      263 non-null    int64  \n",
            " 7   CAtBat     263 non-null    int64  \n",
            " 8   CHits      263 non-null    int64  \n",
            " 9   CHmRun     263 non-null    int64  \n",
            " 10  CRuns      263 non-null    int64  \n",
            " 11  CRBI       263 non-null    int64  \n",
            " 12  CWalks     263 non-null    int64  \n",
            " 13  League     263 non-null    object \n",
            " 14  Division   263 non-null    object \n",
            " 15  PutOuts    263 non-null    int64  \n",
            " 16  Assists    263 non-null    int64  \n",
            " 17  Errors     263 non-null    int64  \n",
            " 18  Salary     263 non-null    float64\n",
            " 19  NewLeague  263 non-null    object \n",
            "dtypes: float64(1), int64(16), object(3)\n",
            "memory usage: 43.1+ KB\n"
          ],
          "name": "stdout"
        }
      ]
    },
    {
      "cell_type": "code",
      "metadata": {
        "id": "AP7GPzkxxxzk",
        "colab_type": "code",
        "colab": {
          "base_uri": "https://localhost:8080/",
          "height": 344
        },
        "outputId": "0066c109-6892-40b0-d4be-3087a3bcfd99"
      },
      "source": [
        "df.head()"
      ],
      "execution_count": 6,
      "outputs": [
        {
          "output_type": "execute_result",
          "data": {
            "text/html": [
              "<div>\n",
              "<style scoped>\n",
              "    .dataframe tbody tr th:only-of-type {\n",
              "        vertical-align: middle;\n",
              "    }\n",
              "\n",
              "    .dataframe tbody tr th {\n",
              "        vertical-align: top;\n",
              "    }\n",
              "\n",
              "    .dataframe thead th {\n",
              "        text-align: right;\n",
              "    }\n",
              "</style>\n",
              "<table border=\"1\" class=\"dataframe\">\n",
              "  <thead>\n",
              "    <tr style=\"text-align: right;\">\n",
              "      <th></th>\n",
              "      <th>AtBat</th>\n",
              "      <th>Hits</th>\n",
              "      <th>HmRun</th>\n",
              "      <th>Runs</th>\n",
              "      <th>RBI</th>\n",
              "      <th>Walks</th>\n",
              "      <th>Years</th>\n",
              "      <th>CAtBat</th>\n",
              "      <th>CHits</th>\n",
              "      <th>CHmRun</th>\n",
              "      <th>CRuns</th>\n",
              "      <th>CRBI</th>\n",
              "      <th>CWalks</th>\n",
              "      <th>League</th>\n",
              "      <th>Division</th>\n",
              "      <th>PutOuts</th>\n",
              "      <th>Assists</th>\n",
              "      <th>Errors</th>\n",
              "      <th>Salary</th>\n",
              "      <th>NewLeague</th>\n",
              "    </tr>\n",
              "    <tr>\n",
              "      <th>Player</th>\n",
              "      <th></th>\n",
              "      <th></th>\n",
              "      <th></th>\n",
              "      <th></th>\n",
              "      <th></th>\n",
              "      <th></th>\n",
              "      <th></th>\n",
              "      <th></th>\n",
              "      <th></th>\n",
              "      <th></th>\n",
              "      <th></th>\n",
              "      <th></th>\n",
              "      <th></th>\n",
              "      <th></th>\n",
              "      <th></th>\n",
              "      <th></th>\n",
              "      <th></th>\n",
              "      <th></th>\n",
              "      <th></th>\n",
              "      <th></th>\n",
              "    </tr>\n",
              "  </thead>\n",
              "  <tbody>\n",
              "    <tr>\n",
              "      <th>-Alan Ashby</th>\n",
              "      <td>315</td>\n",
              "      <td>81</td>\n",
              "      <td>7</td>\n",
              "      <td>24</td>\n",
              "      <td>38</td>\n",
              "      <td>39</td>\n",
              "      <td>14</td>\n",
              "      <td>3449</td>\n",
              "      <td>835</td>\n",
              "      <td>69</td>\n",
              "      <td>321</td>\n",
              "      <td>414</td>\n",
              "      <td>375</td>\n",
              "      <td>N</td>\n",
              "      <td>W</td>\n",
              "      <td>632</td>\n",
              "      <td>43</td>\n",
              "      <td>10</td>\n",
              "      <td>475.0</td>\n",
              "      <td>N</td>\n",
              "    </tr>\n",
              "    <tr>\n",
              "      <th>-Alvin Davis</th>\n",
              "      <td>479</td>\n",
              "      <td>130</td>\n",
              "      <td>18</td>\n",
              "      <td>66</td>\n",
              "      <td>72</td>\n",
              "      <td>76</td>\n",
              "      <td>3</td>\n",
              "      <td>1624</td>\n",
              "      <td>457</td>\n",
              "      <td>63</td>\n",
              "      <td>224</td>\n",
              "      <td>266</td>\n",
              "      <td>263</td>\n",
              "      <td>A</td>\n",
              "      <td>W</td>\n",
              "      <td>880</td>\n",
              "      <td>82</td>\n",
              "      <td>14</td>\n",
              "      <td>480.0</td>\n",
              "      <td>A</td>\n",
              "    </tr>\n",
              "    <tr>\n",
              "      <th>-Andre Dawson</th>\n",
              "      <td>496</td>\n",
              "      <td>141</td>\n",
              "      <td>20</td>\n",
              "      <td>65</td>\n",
              "      <td>78</td>\n",
              "      <td>37</td>\n",
              "      <td>11</td>\n",
              "      <td>5628</td>\n",
              "      <td>1575</td>\n",
              "      <td>225</td>\n",
              "      <td>828</td>\n",
              "      <td>838</td>\n",
              "      <td>354</td>\n",
              "      <td>N</td>\n",
              "      <td>E</td>\n",
              "      <td>200</td>\n",
              "      <td>11</td>\n",
              "      <td>3</td>\n",
              "      <td>500.0</td>\n",
              "      <td>N</td>\n",
              "    </tr>\n",
              "    <tr>\n",
              "      <th>-Andres Galarraga</th>\n",
              "      <td>321</td>\n",
              "      <td>87</td>\n",
              "      <td>10</td>\n",
              "      <td>39</td>\n",
              "      <td>42</td>\n",
              "      <td>30</td>\n",
              "      <td>2</td>\n",
              "      <td>396</td>\n",
              "      <td>101</td>\n",
              "      <td>12</td>\n",
              "      <td>48</td>\n",
              "      <td>46</td>\n",
              "      <td>33</td>\n",
              "      <td>N</td>\n",
              "      <td>E</td>\n",
              "      <td>805</td>\n",
              "      <td>40</td>\n",
              "      <td>4</td>\n",
              "      <td>91.5</td>\n",
              "      <td>N</td>\n",
              "    </tr>\n",
              "    <tr>\n",
              "      <th>-Alfredo Griffin</th>\n",
              "      <td>594</td>\n",
              "      <td>169</td>\n",
              "      <td>4</td>\n",
              "      <td>74</td>\n",
              "      <td>51</td>\n",
              "      <td>35</td>\n",
              "      <td>11</td>\n",
              "      <td>4408</td>\n",
              "      <td>1133</td>\n",
              "      <td>19</td>\n",
              "      <td>501</td>\n",
              "      <td>336</td>\n",
              "      <td>194</td>\n",
              "      <td>A</td>\n",
              "      <td>W</td>\n",
              "      <td>282</td>\n",
              "      <td>421</td>\n",
              "      <td>25</td>\n",
              "      <td>750.0</td>\n",
              "      <td>A</td>\n",
              "    </tr>\n",
              "  </tbody>\n",
              "</table>\n",
              "</div>"
            ],
            "text/plain": [
              "                   AtBat  Hits  HmRun  Runs  ...  Assists  Errors  Salary  NewLeague\n",
              "Player                                       ...                                    \n",
              "-Alan Ashby          315    81      7    24  ...       43      10   475.0          N\n",
              "-Alvin Davis         479   130     18    66  ...       82      14   480.0          A\n",
              "-Andre Dawson        496   141     20    65  ...       11       3   500.0          N\n",
              "-Andres Galarraga    321    87     10    39  ...       40       4    91.5          N\n",
              "-Alfredo Griffin     594   169      4    74  ...      421      25   750.0          A\n",
              "\n",
              "[5 rows x 20 columns]"
            ]
          },
          "metadata": {
            "tags": []
          },
          "execution_count": 6
        }
      ]
    },
    {
      "cell_type": "code",
      "metadata": {
        "id": "-JBh_oJrxxzk",
        "colab_type": "code",
        "colab": {
          "base_uri": "https://localhost:8080/",
          "height": 399
        },
        "outputId": "0f062347-5bd1-40dc-dc47-071c04c864dd"
      },
      "source": [
        "dummies = pd.get_dummies(df[['League', 'Division', 'NewLeague']])\n",
        "dummies.info()\n",
        "print(dummies.head())"
      ],
      "execution_count": 7,
      "outputs": [
        {
          "output_type": "stream",
          "text": [
            "<class 'pandas.core.frame.DataFrame'>\n",
            "Index: 263 entries, -Alan Ashby to -Willie Wilson\n",
            "Data columns (total 6 columns):\n",
            " #   Column       Non-Null Count  Dtype\n",
            "---  ------       --------------  -----\n",
            " 0   League_A     263 non-null    uint8\n",
            " 1   League_N     263 non-null    uint8\n",
            " 2   Division_E   263 non-null    uint8\n",
            " 3   Division_W   263 non-null    uint8\n",
            " 4   NewLeague_A  263 non-null    uint8\n",
            " 5   NewLeague_N  263 non-null    uint8\n",
            "dtypes: uint8(6)\n",
            "memory usage: 3.6+ KB\n",
            "                   League_A  League_N  ...  NewLeague_A  NewLeague_N\n",
            "Player                                 ...                          \n",
            "-Alan Ashby               0         1  ...            0            1\n",
            "-Alvin Davis              1         0  ...            1            0\n",
            "-Andre Dawson             0         1  ...            0            1\n",
            "-Andres Galarraga         0         1  ...            0            1\n",
            "-Alfredo Griffin          1         0  ...            1            0\n",
            "\n",
            "[5 rows x 6 columns]\n"
          ],
          "name": "stdout"
        }
      ]
    },
    {
      "cell_type": "code",
      "metadata": {
        "id": "IqYuSNMDxx1I",
        "colab_type": "code",
        "colab": {
          "base_uri": "https://localhost:8080/",
          "height": 469
        },
        "outputId": "bbd4931a-dd07-4b62-8a39-2668ab60583f"
      },
      "source": [
        "y = df.Salary\n",
        "\n",
        "# Drop the column with the independent variable (Salary), and columns for which we created dummy variables\n",
        "X_ = df.drop(['Salary', 'League', 'Division', 'NewLeague'], axis=1).astype('float64')\n",
        "# Define the feature set X.\n",
        "X = pd.concat([X_, dummies[['League_N', 'Division_W', 'NewLeague_N']]], axis=1)\n",
        "X.info()"
      ],
      "execution_count": 8,
      "outputs": [
        {
          "output_type": "stream",
          "text": [
            "<class 'pandas.core.frame.DataFrame'>\n",
            "Index: 263 entries, -Alan Ashby to -Willie Wilson\n",
            "Data columns (total 19 columns):\n",
            " #   Column       Non-Null Count  Dtype  \n",
            "---  ------       --------------  -----  \n",
            " 0   AtBat        263 non-null    float64\n",
            " 1   Hits         263 non-null    float64\n",
            " 2   HmRun        263 non-null    float64\n",
            " 3   Runs         263 non-null    float64\n",
            " 4   RBI          263 non-null    float64\n",
            " 5   Walks        263 non-null    float64\n",
            " 6   Years        263 non-null    float64\n",
            " 7   CAtBat       263 non-null    float64\n",
            " 8   CHits        263 non-null    float64\n",
            " 9   CHmRun       263 non-null    float64\n",
            " 10  CRuns        263 non-null    float64\n",
            " 11  CRBI         263 non-null    float64\n",
            " 12  CWalks       263 non-null    float64\n",
            " 13  PutOuts      263 non-null    float64\n",
            " 14  Assists      263 non-null    float64\n",
            " 15  Errors       263 non-null    float64\n",
            " 16  League_N     263 non-null    uint8  \n",
            " 17  Division_W   263 non-null    uint8  \n",
            " 18  NewLeague_N  263 non-null    uint8  \n",
            "dtypes: float64(16), uint8(3)\n",
            "memory usage: 35.7+ KB\n"
          ],
          "name": "stdout"
        }
      ]
    },
    {
      "cell_type": "code",
      "metadata": {
        "id": "btbauVR8xx1I",
        "colab_type": "code",
        "colab": {
          "base_uri": "https://localhost:8080/",
          "height": 344
        },
        "outputId": "8fd344ba-af3c-4565-9624-efff7df12672"
      },
      "source": [
        "X.head(5)"
      ],
      "execution_count": 9,
      "outputs": [
        {
          "output_type": "execute_result",
          "data": {
            "text/html": [
              "<div>\n",
              "<style scoped>\n",
              "    .dataframe tbody tr th:only-of-type {\n",
              "        vertical-align: middle;\n",
              "    }\n",
              "\n",
              "    .dataframe tbody tr th {\n",
              "        vertical-align: top;\n",
              "    }\n",
              "\n",
              "    .dataframe thead th {\n",
              "        text-align: right;\n",
              "    }\n",
              "</style>\n",
              "<table border=\"1\" class=\"dataframe\">\n",
              "  <thead>\n",
              "    <tr style=\"text-align: right;\">\n",
              "      <th></th>\n",
              "      <th>AtBat</th>\n",
              "      <th>Hits</th>\n",
              "      <th>HmRun</th>\n",
              "      <th>Runs</th>\n",
              "      <th>RBI</th>\n",
              "      <th>Walks</th>\n",
              "      <th>Years</th>\n",
              "      <th>CAtBat</th>\n",
              "      <th>CHits</th>\n",
              "      <th>CHmRun</th>\n",
              "      <th>CRuns</th>\n",
              "      <th>CRBI</th>\n",
              "      <th>CWalks</th>\n",
              "      <th>PutOuts</th>\n",
              "      <th>Assists</th>\n",
              "      <th>Errors</th>\n",
              "      <th>League_N</th>\n",
              "      <th>Division_W</th>\n",
              "      <th>NewLeague_N</th>\n",
              "    </tr>\n",
              "    <tr>\n",
              "      <th>Player</th>\n",
              "      <th></th>\n",
              "      <th></th>\n",
              "      <th></th>\n",
              "      <th></th>\n",
              "      <th></th>\n",
              "      <th></th>\n",
              "      <th></th>\n",
              "      <th></th>\n",
              "      <th></th>\n",
              "      <th></th>\n",
              "      <th></th>\n",
              "      <th></th>\n",
              "      <th></th>\n",
              "      <th></th>\n",
              "      <th></th>\n",
              "      <th></th>\n",
              "      <th></th>\n",
              "      <th></th>\n",
              "      <th></th>\n",
              "    </tr>\n",
              "  </thead>\n",
              "  <tbody>\n",
              "    <tr>\n",
              "      <th>-Alan Ashby</th>\n",
              "      <td>315.0</td>\n",
              "      <td>81.0</td>\n",
              "      <td>7.0</td>\n",
              "      <td>24.0</td>\n",
              "      <td>38.0</td>\n",
              "      <td>39.0</td>\n",
              "      <td>14.0</td>\n",
              "      <td>3449.0</td>\n",
              "      <td>835.0</td>\n",
              "      <td>69.0</td>\n",
              "      <td>321.0</td>\n",
              "      <td>414.0</td>\n",
              "      <td>375.0</td>\n",
              "      <td>632.0</td>\n",
              "      <td>43.0</td>\n",
              "      <td>10.0</td>\n",
              "      <td>1</td>\n",
              "      <td>1</td>\n",
              "      <td>1</td>\n",
              "    </tr>\n",
              "    <tr>\n",
              "      <th>-Alvin Davis</th>\n",
              "      <td>479.0</td>\n",
              "      <td>130.0</td>\n",
              "      <td>18.0</td>\n",
              "      <td>66.0</td>\n",
              "      <td>72.0</td>\n",
              "      <td>76.0</td>\n",
              "      <td>3.0</td>\n",
              "      <td>1624.0</td>\n",
              "      <td>457.0</td>\n",
              "      <td>63.0</td>\n",
              "      <td>224.0</td>\n",
              "      <td>266.0</td>\n",
              "      <td>263.0</td>\n",
              "      <td>880.0</td>\n",
              "      <td>82.0</td>\n",
              "      <td>14.0</td>\n",
              "      <td>0</td>\n",
              "      <td>1</td>\n",
              "      <td>0</td>\n",
              "    </tr>\n",
              "    <tr>\n",
              "      <th>-Andre Dawson</th>\n",
              "      <td>496.0</td>\n",
              "      <td>141.0</td>\n",
              "      <td>20.0</td>\n",
              "      <td>65.0</td>\n",
              "      <td>78.0</td>\n",
              "      <td>37.0</td>\n",
              "      <td>11.0</td>\n",
              "      <td>5628.0</td>\n",
              "      <td>1575.0</td>\n",
              "      <td>225.0</td>\n",
              "      <td>828.0</td>\n",
              "      <td>838.0</td>\n",
              "      <td>354.0</td>\n",
              "      <td>200.0</td>\n",
              "      <td>11.0</td>\n",
              "      <td>3.0</td>\n",
              "      <td>1</td>\n",
              "      <td>0</td>\n",
              "      <td>1</td>\n",
              "    </tr>\n",
              "    <tr>\n",
              "      <th>-Andres Galarraga</th>\n",
              "      <td>321.0</td>\n",
              "      <td>87.0</td>\n",
              "      <td>10.0</td>\n",
              "      <td>39.0</td>\n",
              "      <td>42.0</td>\n",
              "      <td>30.0</td>\n",
              "      <td>2.0</td>\n",
              "      <td>396.0</td>\n",
              "      <td>101.0</td>\n",
              "      <td>12.0</td>\n",
              "      <td>48.0</td>\n",
              "      <td>46.0</td>\n",
              "      <td>33.0</td>\n",
              "      <td>805.0</td>\n",
              "      <td>40.0</td>\n",
              "      <td>4.0</td>\n",
              "      <td>1</td>\n",
              "      <td>0</td>\n",
              "      <td>1</td>\n",
              "    </tr>\n",
              "    <tr>\n",
              "      <th>-Alfredo Griffin</th>\n",
              "      <td>594.0</td>\n",
              "      <td>169.0</td>\n",
              "      <td>4.0</td>\n",
              "      <td>74.0</td>\n",
              "      <td>51.0</td>\n",
              "      <td>35.0</td>\n",
              "      <td>11.0</td>\n",
              "      <td>4408.0</td>\n",
              "      <td>1133.0</td>\n",
              "      <td>19.0</td>\n",
              "      <td>501.0</td>\n",
              "      <td>336.0</td>\n",
              "      <td>194.0</td>\n",
              "      <td>282.0</td>\n",
              "      <td>421.0</td>\n",
              "      <td>25.0</td>\n",
              "      <td>0</td>\n",
              "      <td>1</td>\n",
              "      <td>0</td>\n",
              "    </tr>\n",
              "  </tbody>\n",
              "</table>\n",
              "</div>"
            ],
            "text/plain": [
              "                   AtBat   Hits  HmRun  ...  League_N  Division_W  NewLeague_N\n",
              "Player                                  ...                                   \n",
              "-Alan Ashby        315.0   81.0    7.0  ...         1           1            1\n",
              "-Alvin Davis       479.0  130.0   18.0  ...         0           1            0\n",
              "-Andre Dawson      496.0  141.0   20.0  ...         1           0            1\n",
              "-Andres Galarraga  321.0   87.0   10.0  ...         1           0            1\n",
              "-Alfredo Griffin   594.0  169.0    4.0  ...         0           1            0\n",
              "\n",
              "[5 rows x 19 columns]"
            ]
          },
          "metadata": {
            "tags": []
          },
          "execution_count": 9
        }
      ]
    },
    {
      "cell_type": "markdown",
      "metadata": {
        "id": "89QtX7-wxx1I",
        "colab_type": "text"
      },
      "source": [
        "#### I executed the R code and downloaded the exact same training/test sets used in the book."
      ]
    },
    {
      "cell_type": "code",
      "metadata": {
        "id": "tclcORjlxx1I",
        "colab_type": "code",
        "colab": {}
      },
      "source": [
        "# X_train = pd.read_csv('Data/Hitters_X_train.csv', index_col=0)\n",
        "# y_train = pd.read_csv('Data/Hitters_y_train.csv', index_col=0)\n",
        "# X_test = pd.read_csv('Data/Hitters_X_test.csv', index_col=0)\n",
        "# y_test = pd.read_csv('Data/Hitters_y_test.csv', index_col=0)\n",
        "\n",
        "X_train = pd.read_csv('https://raw.githubusercontent.com/borisgarbuzov/schulich_data_science_1/master/Data/Hitters_X_train.csv', index_col=0)\n",
        "y_train = pd.read_csv('https://raw.githubusercontent.com/borisgarbuzov/schulich_data_science_1/master/Data/Hitters_y_train.csv', index_col=0)\n",
        "X_test = pd.read_csv('https://raw.githubusercontent.com/borisgarbuzov/schulich_data_science_1/master/Data/Hitters_X_test.csv', index_col=0)\n",
        "y_test = pd.read_csv('https://raw.githubusercontent.com/borisgarbuzov/schulich_data_science_1/master/Data/Hitters_y_test.csv', index_col=0)"
      ],
      "execution_count": 10,
      "outputs": []
    },
    {
      "cell_type": "markdown",
      "metadata": {
        "id": "PYnT_OROxx1I",
        "colab_type": "text"
      },
      "source": [
        "### 6.6.1 Ridge Regression"
      ]
    },
    {
      "cell_type": "markdown",
      "metadata": {
        "id": "3C9EkxyTxx1I",
        "colab_type": "text"
      },
      "source": [
        "### Scikit-learn"
      ]
    },
    {
      "cell_type": "markdown",
      "metadata": {
        "id": "qpQFvq06xx1I",
        "colab_type": "text"
      },
      "source": [
        "The __glmnet__ algorithms in R optimize the objective function using cyclical coordinate descent, while scikit-learn Ridge regression uses linear least squares with L2 regularization. They are rather different implementations, but the general principles are the same.\n",
        "\n",
        "The __glmnet() function in R__ optimizes:\n",
        "### $$ \\frac{1}{N}|| X\\beta-y||^2_2+\\lambda\\bigg(\\frac{1}{2}(1−\\alpha)||\\beta||^2_2 \\ +\\ \\alpha||\\beta||_1\\bigg) $$\n",
        "(See R documentation and https://cran.r-project.org/web/packages/glmnet/vignettes/glmnet_beta.pdf)<BR>\n",
        "The function supports L1 and L2 regularization. For just Ridge regression we need to use $\\alpha = 0 $. This reduces the above cost function to\n",
        "### $$ \\frac{1}{N}|| X\\beta-y||^2_2+\\frac{1}{2}\\lambda ||\\beta||^2_2 $$\n",
        "The __sklearn Ridge()__ function optimizes:\n",
        "### $$ ||X\\beta - y||^2_2 + \\alpha ||\\beta||^2_2 $$\n",
        "which is equivalent to optimizing\n",
        "### $$ \\frac{1}{N}||X\\beta - y||^2_2 + \\frac{\\alpha}{N} ||\\beta||^2_2 $$"
      ]
    },
    {
      "cell_type": "code",
      "metadata": {
        "id": "l2qvDd6Hxx1I",
        "colab_type": "code",
        "colab": {
          "base_uri": "https://localhost:8080/",
          "height": 295
        },
        "outputId": "bc0a22ed-4928-4023-cfd2-75a225c95745"
      },
      "source": [
        "alphas = 10**np.linspace(10,-2,100)*0.5\n",
        "\n",
        "ridge = Ridge()\n",
        "coefs = []\n",
        "\n",
        "for a in alphas:\n",
        "    ridge.set_params(alpha=a)\n",
        "    ridge.fit(scale(X), y)\n",
        "    coefs.append(ridge.coef_)\n",
        "\n",
        "ax = plt.gca()\n",
        "ax.plot(alphas, coefs)\n",
        "ax.set_xscale('log')\n",
        "ax.set_xlim(ax.get_xlim()[::-1])  # reverse axis\n",
        "plt.axis('tight')\n",
        "plt.xlabel('alpha')\n",
        "plt.ylabel('weights')\n",
        "plt.title('Ridge coefficients as a function of the regularization');"
      ],
      "execution_count": 11,
      "outputs": [
        {
          "output_type": "display_data",
          "data": {
            "image/png": "[encoded data removed]",
            "text/plain": [
              "<Figure size 432x288 with 1 Axes>"
            ]
          },
          "metadata": {
            "tags": []
          }
        }
      ]
    },
    {
      "cell_type": "markdown",
      "metadata": {
        "id": "UUve6O-Exx1I",
        "colab_type": "text"
      },
      "source": [
        "The above plot shows that the Ridge coefficients get larger when we decrease alpha."
      ]
    },
    {
      "cell_type": "markdown",
      "metadata": {
        "id": "pKXURHDyxx1I",
        "colab_type": "text"
      },
      "source": [
        "#### Alpha = 4"
      ]
    },
    {
      "cell_type": "code",
      "metadata": {
        "id": "kMuROp35xx1I",
        "colab_type": "code",
        "colab": {}
      },
      "source": [
        "from sklearn.preprocessing import StandardScaler\n",
        "\n",
        "scaler = StandardScaler().fit(X_train)"
      ],
      "execution_count": 12,
      "outputs": []
    },
    {
      "cell_type": "code",
      "metadata": {
        "id": "atxzzhFIxx1I",
        "colab_type": "code",
        "colab": {
          "base_uri": "https://localhost:8080/",
          "height": 34
        },
        "outputId": "7ebe96be-0926-4e28-9fb6-2675bd163e1c"
      },
      "source": [
        "ridge2 = Ridge(alpha=len(X_)*11498/2)\n",
        "ridge2.fit(scaler.transform(X_train), y_train)\n",
        "pred = ridge2.predict(scaler.transform(X_test))\n",
        "mean_squared_error(y_test, pred)"
      ],
      "execution_count": 13,
      "outputs": [
        {
          "output_type": "execute_result",
          "data": {
            "text/plain": [
              "193147.46143016344"
            ]
          },
          "metadata": {
            "tags": []
          },
          "execution_count": 13
        }
      ]
    },
    {
      "cell_type": "code",
      "metadata": {
        "id": "5jsVRTemxx2s",
        "colab_type": "code",
        "colab": {
          "base_uri": "https://localhost:8080/",
          "height": 364
        },
        "outputId": "99e7cd17-b64c-4f95-ec4b-dfc49c5dbfcc"
      },
      "source": [
        "pd.Series(ridge2.coef_.flatten(), index=X.columns)"
      ],
      "execution_count": 14,
      "outputs": [
        {
          "output_type": "execute_result",
          "data": {
            "text/plain": [
              "AtBat          0.015146\n",
              "Hits           0.016050\n",
              "HmRun          0.013561\n",
              "Runs           0.015681\n",
              "RBI            0.016782\n",
              "Walks          0.019662\n",
              "Years          0.010390\n",
              "CAtBat         0.016570\n",
              "CHits          0.017627\n",
              "CHmRun         0.015072\n",
              "CRuns          0.018771\n",
              "CRBI           0.016697\n",
              "CWalks         0.016821\n",
              "PutOuts        0.003228\n",
              "Assists       -0.007600\n",
              "Errors         0.013672\n",
              "League_N       0.003519\n",
              "Division_W     0.003339\n",
              "NewLeague_N    0.003499\n",
              "dtype: float64"
            ]
          },
          "metadata": {
            "tags": []
          },
          "execution_count": 14
        }
      ]
    },
    {
      "cell_type": "markdown",
      "metadata": {
        "id": "I-xOYKuXxx2s",
        "colab_type": "text"
      },
      "source": [
        "#### Alpha = $10^{10}$ \n",
        "This big penalty shrinks the coefficients to a very large degree and makes the model more biased, resulting in a higher MSE."
      ]
    },
    {
      "cell_type": "code",
      "metadata": {
        "id": "_MCX640jxx2s",
        "colab_type": "code",
        "colab": {
          "base_uri": "https://localhost:8080/",
          "height": 34
        },
        "outputId": "147ca0dd-08fd-4f94-9059-8bcb38fffcfd"
      },
      "source": [
        "ridge2.set_params(alpha=10**10)\n",
        "ridge2.fit(scale(X_train), y_train)\n",
        "pred = ridge2.predict(scale(X_test))\n",
        "mean_squared_error(y_test, pred)"
      ],
      "execution_count": 15,
      "outputs": [
        {
          "output_type": "execute_result",
          "data": {
            "text/plain": [
              "193253.09741651407"
            ]
          },
          "metadata": {
            "tags": []
          },
          "execution_count": 15
        }
      ]
    },
    {
      "cell_type": "markdown",
      "metadata": {
        "id": "XwQu1Q8txx2s",
        "colab_type": "text"
      },
      "source": [
        "#### Compute the regularization path using RidgeCV"
      ]
    },
    {
      "cell_type": "code",
      "metadata": {
        "id": "W2KN1PTRxx2s",
        "colab_type": "code",
        "colab": {
          "base_uri": "https://localhost:8080/",
          "height": 225
        },
        "outputId": "87f9fff9-2020-46c4-ea89-5b7113b786f7"
      },
      "source": [
        "ridgecv = RidgeCV(alphas=alphas, scoring='neg_mean_squared_error')\n",
        "ridgecv.fit(scale(X_train), y_train)"
      ],
      "execution_count": 16,
      "outputs": [
        {
          "output_type": "execute_result",
          "data": {
            "text/plain": [
              "RidgeCV(alphas=array([5.00000000e+09, 3.78231664e+09, 2.86118383e+09, 2.16438064e+09,\n",
              "       1.63727458e+09, 1.23853818e+09, 9.36908711e+08, 7.08737081e+08,\n",
              "       5.36133611e+08, 4.05565415e+08, 3.06795364e+08, 2.32079442e+08,\n",
              "       1.75559587e+08, 1.32804389e+08, 1.00461650e+08, 7.59955541e+07,\n",
              "       5.74878498e+07, 4.34874501e+07, 3.28966612e+07, 2.48851178e+07,\n",
              "       1.88246790e+07, 1.42401793e+0...\n",
              "       3.28966612e-01, 2.48851178e-01, 1.88246790e-01, 1.42401793e-01,\n",
              "       1.07721735e-01, 8.14875417e-02, 6.16423370e-02, 4.66301673e-02,\n",
              "       3.52740116e-02, 2.66834962e-02, 2.01850863e-02, 1.52692775e-02,\n",
              "       1.15506485e-02, 8.73764200e-03, 6.60970574e-03, 5.00000000e-03]),\n",
              "        cv=None, fit_intercept=True, gcv_mode=None, normalize=False,\n",
              "        scoring='neg_mean_squared_error', store_cv_values=False)"
            ]
          },
          "metadata": {
            "tags": []
          },
          "execution_count": 16
        }
      ]
    },
    {
      "cell_type": "code",
      "metadata": {
        "id": "sGfAysYExx2s",
        "colab_type": "code",
        "colab": {
          "base_uri": "https://localhost:8080/",
          "height": 34
        },
        "outputId": "8217d193-2a4f-4d7f-9a5e-9357f9fcb85d"
      },
      "source": [
        "ridgecv.alpha_"
      ],
      "execution_count": 17,
      "outputs": [
        {
          "output_type": "execute_result",
          "data": {
            "text/plain": [
              "115.5064850041579"
            ]
          },
          "metadata": {
            "tags": []
          },
          "execution_count": 17
        }
      ]
    },
    {
      "cell_type": "code",
      "metadata": {
        "id": "RXpyfvrBxx2s",
        "colab_type": "code",
        "colab": {
          "base_uri": "https://localhost:8080/",
          "height": 34
        },
        "outputId": "dd1510f3-e28f-476c-a633-edd64b723e92"
      },
      "source": [
        "ridge2.set_params(alpha=ridgecv.alpha_)\n",
        "ridge2.fit(scale(X_train), y_train)\n",
        "mean_squared_error(y_test, ridge2.predict(scale(X_test)))"
      ],
      "execution_count": 18,
      "outputs": [
        {
          "output_type": "execute_result",
          "data": {
            "text/plain": [
              "97384.9295917259"
            ]
          },
          "metadata": {
            "tags": []
          },
          "execution_count": 18
        }
      ]
    },
    {
      "cell_type": "code",
      "metadata": {
        "id": "vA0C-DCNxx2s",
        "colab_type": "code",
        "colab": {
          "base_uri": "https://localhost:8080/",
          "height": 364
        },
        "outputId": "0bbd3c2d-71c0-443e-cdb0-ea91fee4daf6"
      },
      "source": [
        "pd.Series(ridge2.coef_.flatten(), index=X.columns)"
      ],
      "execution_count": 19,
      "outputs": [
        {
          "output_type": "execute_result",
          "data": {
            "text/plain": [
              "AtBat           7.576771\n",
              "Hits           22.596030\n",
              "HmRun          18.971990\n",
              "Runs           20.193945\n",
              "RBI            21.063875\n",
              "Walks          55.713281\n",
              "Years          -4.687149\n",
              "CAtBat         20.496892\n",
              "CHits          29.230247\n",
              "CHmRun         14.293124\n",
              "CRuns          35.881788\n",
              "CRBI           20.212172\n",
              "CWalks         24.419768\n",
              "PutOuts        16.128910\n",
              "Assists       -44.102264\n",
              "Errors         54.624503\n",
              "League_N        5.771464\n",
              "Division_W     -0.293713\n",
              "NewLeague_N    11.137518\n",
              "dtype: float64"
            ]
          },
          "metadata": {
            "tags": []
          },
          "execution_count": 19
        }
      ]
    },
    {
      "cell_type": "markdown",
      "metadata": {
        "id": "TG3Mu48rxx4Q",
        "colab_type": "text"
      },
      "source": [
        "### python-glmnet (update 2016-08-29)\n",
        "This relatively new module is a wrapper for the fortran library used in the R package `glmnet`. It gives mostly the exact same results as described in the book. However, the `predict()` method does not give you the regression *coefficients* for lambda values not in the lambda_path. It only returns the predicted values.\n",
        "https://github.com/civisanalytics/python-glmnet"
      ]
    },
    {
      "cell_type": "code",
      "metadata": {
        "id": "w0gU8m7Vxx4Q",
        "colab_type": "code",
        "colab": {
          "base_uri": "https://localhost:8080/",
          "height": 243
        },
        "outputId": "302ae56f-3073-4a67-802c-66bf377075aa"
      },
      "source": [
        "grid = 10**np.linspace(10,-2,100)\n",
        "\n",
        "ridge3 = gln.ElasticNet(alpha=0, lambda_path=grid)\n",
        "ridge3.fit(X, y)"
      ],
      "execution_count": 20,
      "outputs": [
        {
          "output_type": "execute_result",
          "data": {
            "text/plain": [
              "ElasticNet(alpha=0, cut_point=1.0, fit_intercept=True,\n",
              "           lambda_path=array([1.00000000e+10, 7.56463328e+09, 5.72236766e+09, 4.32876128e+09,\n",
              "       3.27454916e+09, 2.47707636e+09, 1.87381742e+09, 1.41747416e+09,\n",
              "       1.07226722e+09, 8.11130831e+08, 6.13590727e+08, 4.64158883e+08,\n",
              "       3.51119173e+08, 2.65608778e+08, 2.00923300e+08, 1.51991108e+08,\n",
              "       1.14975700e+08, 8.69749003e+07, 6.5793322...\n",
              "       2.15443469e-01, 1.62975083e-01, 1.23284674e-01, 9.32603347e-02,\n",
              "       7.05480231e-02, 5.33669923e-02, 4.03701726e-02, 3.05385551e-02,\n",
              "       2.31012970e-02, 1.74752840e-02, 1.32194115e-02, 1.00000000e-02]),\n",
              "           lower_limits=-inf, max_features=None, max_iter=100000,\n",
              "           min_lambda_ratio=0.0001, n_jobs=1, n_lambda=100, n_splits=3,\n",
              "           random_state=None, scoring=None, standardize=True, tol=1e-07,\n",
              "           upper_limits=inf, verbose=False)"
            ]
          },
          "metadata": {
            "tags": []
          },
          "execution_count": 20
        }
      ]
    },
    {
      "cell_type": "markdown",
      "metadata": {
        "id": "vbTfG3Clxx4Q",
        "colab_type": "text"
      },
      "source": [
        "#### Lambda 11498"
      ]
    },
    {
      "cell_type": "code",
      "metadata": {
        "id": "fMgxLJHDxx4Q",
        "colab_type": "code",
        "colab": {
          "base_uri": "https://localhost:8080/",
          "height": 34
        },
        "outputId": "eec1fd5c-b296-4b61-8cdb-834bf3e1d10c"
      },
      "source": [
        "ridge3.lambda_path_[49]"
      ],
      "execution_count": 21,
      "outputs": [
        {
          "output_type": "execute_result",
          "data": {
            "text/plain": [
              "11497.569953977356"
            ]
          },
          "metadata": {
            "tags": []
          },
          "execution_count": 21
        }
      ]
    },
    {
      "cell_type": "code",
      "metadata": {
        "id": "jrHSGm3Lxx4Q",
        "colab_type": "code",
        "colab": {
          "base_uri": "https://localhost:8080/",
          "height": 34
        },
        "outputId": "396be81e-3763-4dc4-8cbb-d5aaddd60bd8"
      },
      "source": [
        "print('Intercept: {:.3f}'.format(ridge3.intercept_path_[49]))"
      ],
      "execution_count": 22,
      "outputs": [
        {
          "output_type": "stream",
          "text": [
            "Intercept: 407.356\n"
          ],
          "name": "stdout"
        }
      ]
    },
    {
      "cell_type": "code",
      "metadata": {
        "id": "AZ5ybq1_xx4Q",
        "colab_type": "code",
        "colab": {
          "base_uri": "https://localhost:8080/",
          "height": 364
        },
        "outputId": "19f08c09-ab99-47b9-a89e-03d4013f3770"
      },
      "source": [
        "pd.Series(np.round(ridge3.coef_path_[:,49], decimals=3), index=X.columns)"
      ],
      "execution_count": 23,
      "outputs": [
        {
          "output_type": "execute_result",
          "data": {
            "text/plain": [
              "AtBat          0.037\n",
              "Hits           0.138\n",
              "HmRun          0.525\n",
              "Runs           0.231\n",
              "RBI            0.240\n",
              "Walks          0.290\n",
              "Years          1.108\n",
              "CAtBat         0.003\n",
              "CHits          0.012\n",
              "CHmRun         0.088\n",
              "CRuns          0.023\n",
              "CRBI           0.024\n",
              "CWalks         0.025\n",
              "PutOuts        0.016\n",
              "Assists        0.003\n",
              "Errors        -0.021\n",
              "League_N       0.085\n",
              "Division_W    -6.215\n",
              "NewLeague_N    0.301\n",
              "dtype: float64"
            ]
          },
          "metadata": {
            "tags": []
          },
          "execution_count": 23
        }
      ]
    },
    {
      "cell_type": "code",
      "metadata": {
        "id": "cOMdANXTxx4Q",
        "colab_type": "code",
        "colab": {
          "base_uri": "https://localhost:8080/",
          "height": 34
        },
        "outputId": "55dec984-053e-4045-9410-1825399e82ad"
      },
      "source": [
        "np.sqrt(np.sum(ridge3.coef_path_[:,49]**2))"
      ],
      "execution_count": 24,
      "outputs": [
        {
          "output_type": "execute_result",
          "data": {
            "text/plain": [
              "6.3606122865384505"
            ]
          },
          "metadata": {
            "tags": []
          },
          "execution_count": 24
        }
      ]
    },
    {
      "cell_type": "markdown",
      "metadata": {
        "id": "fuBKLp-Qxx4Q",
        "colab_type": "text"
      },
      "source": [
        "#### Lambda 705"
      ]
    },
    {
      "cell_type": "code",
      "metadata": {
        "id": "WcZs9nfcxx4Q",
        "colab_type": "code",
        "colab": {
          "base_uri": "https://localhost:8080/",
          "height": 34
        },
        "outputId": "ac072495-c1f5-4208-e60a-36892814789b"
      },
      "source": [
        "ridge3.lambda_path_[59]"
      ],
      "execution_count": 25,
      "outputs": [
        {
          "output_type": "execute_result",
          "data": {
            "text/plain": [
              "705.4802310718645"
            ]
          },
          "metadata": {
            "tags": []
          },
          "execution_count": 25
        }
      ]
    },
    {
      "cell_type": "code",
      "metadata": {
        "id": "83kJoml9xx4Q",
        "colab_type": "code",
        "colab": {
          "base_uri": "https://localhost:8080/",
          "height": 34
        },
        "outputId": "3de28a03-9cc8-4897-dcb4-d99cf15b45ea"
      },
      "source": [
        "print('Intercept: {:.3f}'.format(ridge3.intercept_path_[59]))"
      ],
      "execution_count": 26,
      "outputs": [
        {
          "output_type": "stream",
          "text": [
            "Intercept: 54.325\n"
          ],
          "name": "stdout"
        }
      ]
    },
    {
      "cell_type": "code",
      "metadata": {
        "id": "9IKp40esxx4Q",
        "colab_type": "code",
        "colab": {
          "base_uri": "https://localhost:8080/",
          "height": 364
        },
        "outputId": "e8ae979c-00de-431c-b395-85d40ce5607b"
      },
      "source": [
        "pd.Series(np.round(ridge3.coef_path_[:,59], decimals=3), index=X.columns)"
      ],
      "execution_count": 27,
      "outputs": [
        {
          "output_type": "execute_result",
          "data": {
            "text/plain": [
              "AtBat           0.112\n",
              "Hits            0.656\n",
              "HmRun           1.180\n",
              "Runs            0.938\n",
              "RBI             0.847\n",
              "Walks           1.320\n",
              "Years           2.596\n",
              "CAtBat          0.011\n",
              "CHits           0.047\n",
              "CHmRun          0.338\n",
              "CRuns           0.094\n",
              "CRBI            0.098\n",
              "CWalks          0.072\n",
              "PutOuts         0.119\n",
              "Assists         0.016\n",
              "Errors         -0.704\n",
              "League_N       13.684\n",
              "Division_W    -54.659\n",
              "NewLeague_N     8.612\n",
              "dtype: float64"
            ]
          },
          "metadata": {
            "tags": []
          },
          "execution_count": 27
        }
      ]
    },
    {
      "cell_type": "code",
      "metadata": {
        "id": "Q0VKx4OFxx4Q",
        "colab_type": "code",
        "colab": {
          "base_uri": "https://localhost:8080/",
          "height": 34
        },
        "outputId": "c626f62d-de98-4b5e-a053-280c133fc0d2"
      },
      "source": [
        "np.sqrt(np.sum(ridge3.coef_path_[:,59]**2))"
      ],
      "execution_count": 28,
      "outputs": [
        {
          "output_type": "execute_result",
          "data": {
            "text/plain": [
              "57.11003436702412"
            ]
          },
          "metadata": {
            "tags": []
          },
          "execution_count": 28
        }
      ]
    },
    {
      "cell_type": "markdown",
      "metadata": {
        "id": "ln5j_O01xx4Q",
        "colab_type": "text"
      },
      "source": [
        "#### Fit model using just the training set."
      ]
    },
    {
      "cell_type": "code",
      "metadata": {
        "id": "4gHc57nKxx50",
        "colab_type": "code",
        "colab": {
          "base_uri": "https://localhost:8080/",
          "height": 243
        },
        "outputId": "5be73192-19ee-4860-99ad-43e8f9b18cc8"
      },
      "source": [
        "ridge4 = gln.ElasticNet(alpha=0, lambda_path=grid, scoring='mean_squared_error', tol=1e-12)\n",
        "ridge4.fit(X_train, y_train.values.ravel())"
      ],
      "execution_count": 29,
      "outputs": [
        {
          "output_type": "execute_result",
          "data": {
            "text/plain": [
              "ElasticNet(alpha=0, cut_point=1.0, fit_intercept=True,\n",
              "           lambda_path=array([1.00000000e+10, 7.56463328e+09, 5.72236766e+09, 4.32876128e+09,\n",
              "       3.27454916e+09, 2.47707636e+09, 1.87381742e+09, 1.41747416e+09,\n",
              "       1.07226722e+09, 8.11130831e+08, 6.13590727e+08, 4.64158883e+08,\n",
              "       3.51119173e+08, 2.65608778e+08, 2.00923300e+08, 1.51991108e+08,\n",
              "       1.14975700e+08, 8.69749003e+07, 6.5793322...\n",
              "       2.15443469e-01, 1.62975083e-01, 1.23284674e-01, 9.32603347e-02,\n",
              "       7.05480231e-02, 5.33669923e-02, 4.03701726e-02, 3.05385551e-02,\n",
              "       2.31012970e-02, 1.74752840e-02, 1.32194115e-02, 1.00000000e-02]),\n",
              "           lower_limits=-inf, max_features=None, max_iter=100000,\n",
              "           min_lambda_ratio=0.0001, n_jobs=1, n_lambda=100, n_splits=3,\n",
              "           random_state=None, scoring='mean_squared_error', standardize=True,\n",
              "           tol=1e-12, upper_limits=inf, verbose=False)"
            ]
          },
          "metadata": {
            "tags": []
          },
          "execution_count": 29
        }
      ]
    },
    {
      "cell_type": "code",
      "metadata": {
        "id": "JDlV1Wnuxx50",
        "colab_type": "code",
        "colab": {
          "base_uri": "https://localhost:8080/",
          "height": 34
        },
        "outputId": "7bcd50b6-73bd-4579-f306-b438cca69efe"
      },
      "source": [
        "# prediction using lambda = 4\n",
        "pred = ridge4.predict(X_test, lamb=4)\n",
        "mean_squared_error(y_test.values.ravel(), pred)"
      ],
      "execution_count": 30,
      "outputs": [
        {
          "output_type": "execute_result",
          "data": {
            "text/plain": [
              "101036.832308929"
            ]
          },
          "metadata": {
            "tags": []
          },
          "execution_count": 30
        }
      ]
    },
    {
      "cell_type": "markdown",
      "metadata": {
        "id": "WHTWvZwnxx50",
        "colab_type": "text"
      },
      "source": [
        "#### Lambda chosen by cross validation"
      ]
    },
    {
      "cell_type": "code",
      "metadata": {
        "id": "Py4j6a-xxx50",
        "colab_type": "code",
        "colab": {
          "base_uri": "https://localhost:8080/",
          "height": 104
        },
        "outputId": "e8273600-3a38-4e4c-e408-cab947ab4ce6"
      },
      "source": [
        "ridge5 = gln.ElasticNet(alpha=0, scoring='mean_squared_error')\n",
        "ridge5.fit(X_train, y_train.values.ravel())"
      ],
      "execution_count": 31,
      "outputs": [
        {
          "output_type": "execute_result",
          "data": {
            "text/plain": [
              "ElasticNet(alpha=0, cut_point=1.0, fit_intercept=True, lambda_path=None,\n",
              "           lower_limits=-inf, max_features=None, max_iter=100000,\n",
              "           min_lambda_ratio=0.0001, n_jobs=1, n_lambda=100, n_splits=3,\n",
              "           random_state=None, scoring='mean_squared_error', standardize=True,\n",
              "           tol=1e-07, upper_limits=inf, verbose=False)"
            ]
          },
          "metadata": {
            "tags": []
          },
          "execution_count": 31
        }
      ]
    },
    {
      "cell_type": "code",
      "metadata": {
        "id": "zigmfbd5xx50",
        "colab_type": "code",
        "colab": {
          "base_uri": "https://localhost:8080/",
          "height": 34
        },
        "outputId": "3d1dfe6c-2e11-4313-f8d8-29b2f04e9d51"
      },
      "source": [
        "# Lambda with best CV performance\n",
        "ridge5.lambda_max_"
      ],
      "execution_count": 32,
      "outputs": [
        {
          "output_type": "execute_result",
          "data": {
            "text/plain": [
              "307.2007848050221"
            ]
          },
          "metadata": {
            "tags": []
          },
          "execution_count": 32
        }
      ]
    },
    {
      "cell_type": "code",
      "metadata": {
        "id": "hUQtRHybxx50",
        "colab_type": "code",
        "colab": {
          "base_uri": "https://localhost:8080/",
          "height": 34
        },
        "outputId": "cbd5768b-6f9e-4408-ad58-077125db6124"
      },
      "source": [
        "# Lambda larger than lambda_max_, but with a CV score that is within 1 standard deviation away from lambda_max_ \n",
        "ridge5.lambda_best_"
      ],
      "execution_count": 33,
      "outputs": [
        {
          "output_type": "execute_result",
          "data": {
            "text/plain": [
              "array([3450.86024521])"
            ]
          },
          "metadata": {
            "tags": []
          },
          "execution_count": 33
        }
      ]
    },
    {
      "cell_type": "code",
      "metadata": {
        "id": "Bp8nF-Yxxx50",
        "colab_type": "code",
        "colab": {
          "base_uri": "https://localhost:8080/",
          "height": 385
        },
        "outputId": "19df6eb4-1175-42c3-b9fd-83de6401b190"
      },
      "source": [
        "plt.figure(figsize=(15,6))\n",
        "plt.errorbar(np.log(ridge5.lambda_path_), -ridge5.cv_mean_score_, color='r', linestyle='None', marker='o',\n",
        "             markersize=5, yerr=ridge5.cv_standard_error_, ecolor='lightgrey', capsize=4)\n",
        "\n",
        "for ref, txt in zip([ridge5.lambda_best_, ridge5.lambda_max_], ['Lambda best', 'Lambda max']):\n",
        "    plt.axvline(x=np.log(ref), linestyle='dashed', color='lightgrey')\n",
        "    plt.text(np.log(ref), .95*plt.gca().get_ylim()[1], txt, ha='center')\n",
        "\n",
        "plt.xlabel('log(Lambda)')\n",
        "plt.ylabel('Mean-Squared Error');"
      ],
      "execution_count": 34,
      "outputs": [
        {
          "output_type": "display_data",
          "data": {
            "image/png": "[encoded data removed]",
            "text/plain": [
              "<Figure size 1080x432 with 1 Axes>"
            ]
          },
          "metadata": {
            "tags": []
          }
        }
      ]
    },
    {
      "cell_type": "code",
      "metadata": {
        "id": "usmmiI9gxx7Y",
        "colab_type": "code",
        "colab": {
          "base_uri": "https://localhost:8080/",
          "height": 34
        },
        "outputId": "0cb01b50-6eef-4a7a-a02f-589c259dee2e"
      },
      "source": [
        "# MSE for lambda with best CV performance\n",
        "pred = ridge5.predict(X_test, lamb=ridge5.lambda_max_)\n",
        "mean_squared_error(y_test, pred)"
      ],
      "execution_count": 36,
      "outputs": [
        {
          "output_type": "execute_result",
          "data": {
            "text/plain": [
              "96174.51562389842"
            ]
          },
          "metadata": {
            "tags": []
          },
          "execution_count": 36
        }
      ]
    },
    {
      "cell_type": "markdown",
      "metadata": {
        "id": "2firxydfxx7Y",
        "colab_type": "text"
      },
      "source": [
        "#### Fit model to full data set"
      ]
    },
    {
      "cell_type": "code",
      "metadata": {
        "id": "To_0abwCxx7Y",
        "colab_type": "code",
        "colab": {
          "base_uri": "https://localhost:8080/",
          "height": 104
        },
        "outputId": "553a146e-a2f1-4c2c-f948-8844a9b083bf"
      },
      "source": [
        "ridge6= gln.ElasticNet(alpha=0, scoring='mean_squared_error', n_splits=10)\n",
        "ridge6.fit(X, y)"
      ],
      "execution_count": 37,
      "outputs": [
        {
          "output_type": "execute_result",
          "data": {
            "text/plain": [
              "ElasticNet(alpha=0, cut_point=1.0, fit_intercept=True, lambda_path=None,\n",
              "           lower_limits=-inf, max_features=None, max_iter=100000,\n",
              "           min_lambda_ratio=0.0001, n_jobs=1, n_lambda=100, n_splits=10,\n",
              "           random_state=None, scoring='mean_squared_error', standardize=True,\n",
              "           tol=1e-07, upper_limits=inf, verbose=False)"
            ]
          },
          "metadata": {
            "tags": []
          },
          "execution_count": 37
        }
      ]
    },
    {
      "cell_type": "code",
      "metadata": {
        "id": "rn9jjSjvxx7Y",
        "colab_type": "code",
        "colab": {
          "base_uri": "https://localhost:8080/",
          "height": 364
        },
        "outputId": "0cf5a351-7bfd-4e2b-a38a-0ccc9493e635"
      },
      "source": [
        "# These are not really close to the ones in the book.\n",
        "pd.Series(ridge6.coef_path_[:,ridge6.lambda_max_inx_], index=X.columns)"
      ],
      "execution_count": 38,
      "outputs": [
        {
          "output_type": "execute_result",
          "data": {
            "text/plain": [
              "AtBat           -0.681594\n",
              "Hits             2.772311\n",
              "HmRun           -1.365704\n",
              "Runs             1.014812\n",
              "RBI              0.713030\n",
              "Walks            3.378558\n",
              "Years           -9.066826\n",
              "CAtBat          -0.001200\n",
              "CHits            0.136102\n",
              "CHmRun           0.697992\n",
              "CRuns            0.295890\n",
              "CRBI             0.257072\n",
              "CWalks          -0.278966\n",
              "PutOuts          0.263887\n",
              "Assists          0.169878\n",
              "Errors          -3.685656\n",
              "League_N        53.209503\n",
              "Division_W    -122.834334\n",
              "NewLeague_N    -18.102528\n",
              "dtype: float64"
            ]
          },
          "metadata": {
            "tags": []
          },
          "execution_count": 38
        }
      ]
    },
    {
      "cell_type": "markdown",
      "metadata": {
        "id": "oyPnwUyFxx7Y",
        "colab_type": "text"
      },
      "source": [
        "### 6.6.2 The Lasso"
      ]
    },
    {
      "cell_type": "markdown",
      "metadata": {
        "id": "_UlxeoNCxx7Y",
        "colab_type": "text"
      },
      "source": [
        "### Scikit-learn"
      ]
    },
    {
      "cell_type": "markdown",
      "metadata": {
        "id": "KJQG8TU9xx7Y",
        "colab_type": "text"
      },
      "source": [
        "\n",
        "\n",
        "For both __glmnet__ in R and sklearn __Lasso()__ function the standard L1 penalty is:\n",
        "### $$ \\lambda |\\beta|_1 $$"
      ]
    },
    {
      "cell_type": "code",
      "metadata": {
        "id": "TiPd7jFJxx7Y",
        "colab_type": "code",
        "colab": {
          "base_uri": "https://localhost:8080/",
          "height": 295
        },
        "outputId": "248f4f41-35ff-423c-d1f2-33544b05c11b"
      },
      "source": [
        "lasso = Lasso(max_iter=10000)\n",
        "coefs = []\n",
        "\n",
        "for a in alphas*2:\n",
        "    lasso.set_params(alpha=a)\n",
        "    lasso.fit(scale(X_train), y_train)\n",
        "    coefs.append(lasso.coef_)\n",
        "\n",
        "ax = plt.gca()\n",
        "ax.plot(alphas*2, coefs)\n",
        "ax.set_xscale('log')\n",
        "ax.set_xlim(ax.get_xlim()[::-1])  # reverse axis\n",
        "plt.axis('tight')\n",
        "plt.xlabel('alpha')\n",
        "plt.ylabel('weights')\n",
        "plt.title('Lasso coefficients as a function of the regularization');"
      ],
      "execution_count": 39,
      "outputs": [
        {
          "output_type": "display_data",
          "data": {
            "image/png": "[encoded data removed]",
            "text/plain": [
              "<Figure size 432x288 with 1 Axes>"
            ]
          },
          "metadata": {
            "tags": []
          }
        }
      ]
    },
    {
      "cell_type": "code",
      "metadata": {
        "id": "xKDVo_fuxx7Y",
        "colab_type": "code",
        "colab": {
          "base_uri": "https://localhost:8080/",
          "height": 86
        },
        "outputId": "eba296b3-57ca-4f64-87e2-941a911dcbbe"
      },
      "source": [
        "lassocv = LassoCV(alphas=None, cv=10, max_iter=10000)\n",
        "lassocv.fit(scale(X_train), y_train.values.ravel())"
      ],
      "execution_count": 40,
      "outputs": [
        {
          "output_type": "execute_result",
          "data": {
            "text/plain": [
              "LassoCV(alphas=None, copy_X=True, cv=10, eps=0.001, fit_intercept=True,\n",
              "        max_iter=10000, n_alphas=100, n_jobs=None, normalize=False,\n",
              "        positive=False, precompute='auto', random_state=None,\n",
              "        selection='cyclic', tol=0.0001, verbose=False)"
            ]
          },
          "metadata": {
            "tags": []
          },
          "execution_count": 40
        }
      ]
    },
    {
      "cell_type": "code",
      "metadata": {
        "id": "S_88zUCYxx7Y",
        "colab_type": "code",
        "colab": {
          "base_uri": "https://localhost:8080/",
          "height": 34
        },
        "outputId": "ec60c2d8-4aa9-4693-c574-8efc5b49edab"
      },
      "source": [
        "lassocv.alpha_"
      ],
      "execution_count": 41,
      "outputs": [
        {
          "output_type": "execute_result",
          "data": {
            "text/plain": [
              "30.01382256446427"
            ]
          },
          "metadata": {
            "tags": []
          },
          "execution_count": 41
        }
      ]
    },
    {
      "cell_type": "code",
      "metadata": {
        "id": "HHr51pRrxx7Y",
        "colab_type": "code",
        "colab": {
          "base_uri": "https://localhost:8080/",
          "height": 34
        },
        "outputId": "02881fd4-e985-41e3-9548-e0eb03249ac5"
      },
      "source": [
        "lasso.set_params(alpha=lassocv.alpha_)\n",
        "lasso.fit(scale(X_train), y_train)\n",
        "mean_squared_error(y_test, lasso.predict(scale(X_test)))"
      ],
      "execution_count": 42,
      "outputs": [
        {
          "output_type": "execute_result",
          "data": {
            "text/plain": [
              "102924.90954696965"
            ]
          },
          "metadata": {
            "tags": []
          },
          "execution_count": 42
        }
      ]
    },
    {
      "cell_type": "code",
      "metadata": {
        "id": "nCS-00lPxx7Y",
        "colab_type": "code",
        "colab": {
          "base_uri": "https://localhost:8080/",
          "height": 364
        },
        "outputId": "4672fcb4-4d7f-44ce-e6cf-d511eae8f356"
      },
      "source": [
        "# Some of the coefficients are now reduced to exactly zero.\n",
        "pd.Series(lasso.coef_, index=X.columns)"
      ],
      "execution_count": 43,
      "outputs": [
        {
          "output_type": "execute_result",
          "data": {
            "text/plain": [
              "AtBat            0.000000\n",
              "Hits             0.000000\n",
              "HmRun            2.154219\n",
              "Runs             0.000000\n",
              "RBI             30.835560\n",
              "Walks          104.071528\n",
              "Years           -0.000000\n",
              "CAtBat           0.000000\n",
              "CHits            0.000000\n",
              "CHmRun           0.000000\n",
              "CRuns          132.858095\n",
              "CRBI             0.000000\n",
              "CWalks           0.000000\n",
              "PutOuts          1.896185\n",
              "Assists        -51.058752\n",
              "Errors          76.779641\n",
              "League_N         0.000000\n",
              "Division_W       0.000000\n",
              "NewLeague_N      0.000000\n",
              "dtype: float64"
            ]
          },
          "metadata": {
            "tags": []
          },
          "execution_count": 43
        }
      ]
    },
    {
      "cell_type": "markdown",
      "metadata": {
        "id": "wDEKvKZ1xx7Y",
        "colab_type": "text"
      },
      "source": [
        "### python-glmnet"
      ]
    },
    {
      "cell_type": "code",
      "metadata": {
        "id": "I_wAgY-4xx7Y",
        "colab_type": "code",
        "colab": {
          "base_uri": "https://localhost:8080/",
          "height": 243
        },
        "outputId": "56b6d8b2-5a50-4c9d-b834-ee88f8a175cd"
      },
      "source": [
        "lasso2 = gln.ElasticNet(alpha=1, lambda_path=grid, scoring='mean_squared_error', n_splits=10)\n",
        "lasso2.fit(X_train, y_train.values.ravel())"
      ],
      "execution_count": 44,
      "outputs": [
        {
          "output_type": "execute_result",
          "data": {
            "text/plain": [
              "ElasticNet(alpha=1, cut_point=1.0, fit_intercept=True,\n",
              "           lambda_path=array([1.00000000e+10, 7.56463328e+09, 5.72236766e+09, 4.32876128e+09,\n",
              "       3.27454916e+09, 2.47707636e+09, 1.87381742e+09, 1.41747416e+09,\n",
              "       1.07226722e+09, 8.11130831e+08, 6.13590727e+08, 4.64158883e+08,\n",
              "       3.51119173e+08, 2.65608778e+08, 2.00923300e+08, 1.51991108e+08,\n",
              "       1.14975700e+08, 8.69749003e+07, 6.5793322...\n",
              "       2.15443469e-01, 1.62975083e-01, 1.23284674e-01, 9.32603347e-02,\n",
              "       7.05480231e-02, 5.33669923e-02, 4.03701726e-02, 3.05385551e-02,\n",
              "       2.31012970e-02, 1.74752840e-02, 1.32194115e-02, 1.00000000e-02]),\n",
              "           lower_limits=-inf, max_features=None, max_iter=100000,\n",
              "           min_lambda_ratio=0.0001, n_jobs=1, n_lambda=100, n_splits=10,\n",
              "           random_state=None, scoring='mean_squared_error', standardize=True,\n",
              "           tol=1e-07, upper_limits=inf, verbose=False)"
            ]
          },
          "metadata": {
            "tags": []
          },
          "execution_count": 44
        }
      ]
    },
    {
      "cell_type": "code",
      "metadata": {
        "id": "NMShQP_lxx7Y",
        "colab_type": "code",
        "colab": {
          "base_uri": "https://localhost:8080/",
          "height": 385
        },
        "outputId": "568ca15a-c313-4b3a-a088-d66fcc94f641"
      },
      "source": [
        "l1_norm = np.sum(np.abs(lasso2.coef_path_), axis=0)\n",
        "\n",
        "plt.figure(figsize=(10,6))\n",
        "plt.plot(l1_norm, lasso2.coef_path_.T)\n",
        "plt.xlabel('L1 norm')\n",
        "plt.ylabel('Coefficients');"
      ],
      "execution_count": 45,
      "outputs": [
        {
          "output_type": "display_data",
          "data": {
            "image/png": "[encoded data removed]",
            "text/plain": [
              "<Figure size 720x432 with 1 Axes>"
            ]
          },
          "metadata": {
            "tags": []
          }
        }
      ]
    },
    {
      "cell_type": "markdown",
      "metadata": {
        "id": "m-cVFF9Bxx7Y",
        "colab_type": "text"
      },
      "source": [
        "#### Let glmnet() create a grid to use in CV"
      ]
    },
    {
      "cell_type": "code",
      "metadata": {
        "id": "4lzJ1msdxx7Y",
        "colab_type": "code",
        "colab": {
          "base_uri": "https://localhost:8080/",
          "height": 104
        },
        "outputId": "4bf1e4fd-8371-4326-ffa0-cf24d2cb68c0"
      },
      "source": [
        "lasso3 = gln.ElasticNet(alpha=1, scoring='mean_squared_error', n_splits=10)\n",
        "lasso3.fit(X_train, y_train.values.ravel())"
      ],
      "execution_count": 47,
      "outputs": [
        {
          "output_type": "execute_result",
          "data": {
            "text/plain": [
              "ElasticNet(alpha=1, cut_point=1.0, fit_intercept=True, lambda_path=None,\n",
              "           lower_limits=-inf, max_features=None, max_iter=100000,\n",
              "           min_lambda_ratio=0.0001, n_jobs=1, n_lambda=100, n_splits=10,\n",
              "           random_state=None, scoring='mean_squared_error', standardize=True,\n",
              "           tol=1e-07, upper_limits=inf, verbose=False)"
            ]
          },
          "metadata": {
            "tags": []
          },
          "execution_count": 47
        }
      ]
    },
    {
      "cell_type": "code",
      "metadata": {
        "id": "7VRqqPngxx7Y",
        "colab_type": "code",
        "colab": {
          "base_uri": "https://localhost:8080/",
          "height": 387
        },
        "outputId": "8da375fc-9338-4359-cd37-3b0b69b54be0"
      },
      "source": [
        "plt.figure(figsize=(15,6))\n",
        "plt.errorbar(np.log(lasso3.lambda_path_), -lasso3.cv_mean_score_, color='r', linestyle='None', marker='o',\n",
        "             markersize=5, yerr=lasso3.cv_standard_error_, ecolor='lightgrey', capsize=4)\n",
        "\n",
        "for ref, txt in zip([lasso3.lambda_best_, lasso3.lambda_max_], ['Lambda best', 'Lambda max']):\n",
        "    plt.axvline(x=np.log(ref), linestyle='dashed', color='lightgrey')\n",
        "    plt.text(np.log(ref), .95*plt.gca().get_ylim()[1], txt, ha='center')\n",
        "\n",
        "plt.xlabel('log(Lambda)')\n",
        "plt.ylabel('Mean-Squared Error');"
      ],
      "execution_count": 48,
      "outputs": [
        {
          "output_type": "display_data",
          "data": {
            "image/png": "[encoded data removed]",
            "text/plain": [
              "<Figure size 1080x432 with 1 Axes>"
            ]
          },
          "metadata": {
            "tags": []
          }
        }
      ]
    },
    {
      "cell_type": "code",
      "metadata": {
        "id": "I9UCahixxx7Y",
        "colab_type": "code",
        "colab": {
          "base_uri": "https://localhost:8080/",
          "height": 34
        },
        "outputId": "ee6b225a-92a2-4b5d-ee3e-58f3f3d3a28e"
      },
      "source": [
        "pred = lasso3.predict(X_test, lamb=lasso3.lambda_max_)\n",
        "mean_squared_error(y_test, pred)"
      ],
      "execution_count": 49,
      "outputs": [
        {
          "output_type": "execute_result",
          "data": {
            "text/plain": [
              "101910.38361204902"
            ]
          },
          "metadata": {
            "tags": []
          },
          "execution_count": 49
        }
      ]
    },
    {
      "cell_type": "markdown",
      "metadata": {
        "id": "kpishcfcxx7Y",
        "colab_type": "text"
      },
      "source": [
        "#### Fit model on full dataset"
      ]
    },
    {
      "cell_type": "code",
      "metadata": {
        "id": "aRgDwVbGxx88",
        "colab_type": "code",
        "colab": {
          "base_uri": "https://localhost:8080/",
          "height": 243
        },
        "outputId": "6f86d8b5-437f-40dd-ffdb-bfc9489922d7"
      },
      "source": [
        "lasso4 = gln.ElasticNet(alpha=1, lambda_path=grid, scoring='mean_squared_error', n_splits=10)\n",
        "lasso4.fit(X, y)"
      ],
      "execution_count": 50,
      "outputs": [
        {
          "output_type": "execute_result",
          "data": {
            "text/plain": [
              "ElasticNet(alpha=1, cut_point=1.0, fit_intercept=True,\n",
              "           lambda_path=array([1.00000000e+10, 7.56463328e+09, 5.72236766e+09, 4.32876128e+09,\n",
              "       3.27454916e+09, 2.47707636e+09, 1.87381742e+09, 1.41747416e+09,\n",
              "       1.07226722e+09, 8.11130831e+08, 6.13590727e+08, 4.64158883e+08,\n",
              "       3.51119173e+08, 2.65608778e+08, 2.00923300e+08, 1.51991108e+08,\n",
              "       1.14975700e+08, 8.69749003e+07, 6.5793322...\n",
              "       2.15443469e-01, 1.62975083e-01, 1.23284674e-01, 9.32603347e-02,\n",
              "       7.05480231e-02, 5.33669923e-02, 4.03701726e-02, 3.05385551e-02,\n",
              "       2.31012970e-02, 1.74752840e-02, 1.32194115e-02, 1.00000000e-02]),\n",
              "           lower_limits=-inf, max_features=None, max_iter=100000,\n",
              "           min_lambda_ratio=0.0001, n_jobs=1, n_lambda=100, n_splits=10,\n",
              "           random_state=None, scoring='mean_squared_error', standardize=True,\n",
              "           tol=1e-07, upper_limits=inf, verbose=False)"
            ]
          },
          "metadata": {
            "tags": []
          },
          "execution_count": 50
        }
      ]
    },
    {
      "cell_type": "code",
      "metadata": {
        "id": "BFFKKDEtxx88",
        "colab_type": "code",
        "colab": {
          "base_uri": "https://localhost:8080/",
          "height": 364
        },
        "outputId": "0824db4e-5bca-4fc6-ff61-d3eb3269646e"
      },
      "source": [
        "# These are not really close to the ones in the book.\n",
        "pd.Series(lasso4.coef_path_[:,lasso4.lambda_max_inx_], index=X.columns)"
      ],
      "execution_count": 51,
      "outputs": [
        {
          "output_type": "execute_result",
          "data": {
            "text/plain": [
              "AtBat           -1.560098\n",
              "Hits             5.693168\n",
              "HmRun            0.000000\n",
              "Runs             0.000000\n",
              "RBI              0.000000\n",
              "Walks            4.750540\n",
              "Years           -9.518024\n",
              "CAtBat           0.000000\n",
              "CHits            0.000000\n",
              "CHmRun           0.519161\n",
              "CRuns            0.660407\n",
              "CRBI             0.391541\n",
              "CWalks          -0.532687\n",
              "PutOuts          0.272620\n",
              "Assists          0.174816\n",
              "Errors          -2.056721\n",
              "League_N        32.109569\n",
              "Division_W    -119.258342\n",
              "NewLeague_N      0.000000\n",
              "dtype: float64"
            ]
          },
          "metadata": {
            "tags": []
          },
          "execution_count": 51
        }
      ]
    },
    {
      "cell_type": "markdown",
      "metadata": {
        "id": "MN1a0iLExx88",
        "colab_type": "text"
      },
      "source": [
        "# Lab 3"
      ]
    },
    {
      "cell_type": "markdown",
      "metadata": {
        "id": "orubUq5Sxx88",
        "colab_type": "text"
      },
      "source": [
        "### 6.7.1 Principal Components Regression"
      ]
    },
    {
      "cell_type": "markdown",
      "metadata": {
        "id": "7C2pkHWRxx88",
        "colab_type": "text"
      },
      "source": [
        "Scikit-klearn does not have an implementation of PCA and regression combined like the 'pls' package in R.\n",
        "https://cran.r-project.org/web/packages/pls/vignettes/pls-manual.pdf"
      ]
    },
    {
      "cell_type": "code",
      "metadata": {
        "id": "2Nd8nGoyxx88",
        "colab_type": "code",
        "colab": {
          "base_uri": "https://localhost:8080/",
          "height": 224
        },
        "outputId": "4060a42f-1f91-4c49-9025-73b28cf94292"
      },
      "source": [
        "pca = PCA()\n",
        "X_reduced = pca.fit_transform(scale(X))\n",
        "\n",
        "print(pca.components_.shape)\n",
        "pd.DataFrame(pca.components_.T).loc[:4,:5]"
      ],
      "execution_count": 52,
      "outputs": [
        {
          "output_type": "stream",
          "text": [
            "(19, 19)\n"
          ],
          "name": "stdout"
        },
        {
          "output_type": "execute_result",
          "data": {
            "text/html": [
              "<div>\n",
              "<style scoped>\n",
              "    .dataframe tbody tr th:only-of-type {\n",
              "        vertical-align: middle;\n",
              "    }\n",
              "\n",
              "    .dataframe tbody tr th {\n",
              "        vertical-align: top;\n",
              "    }\n",
              "\n",
              "    .dataframe thead th {\n",
              "        text-align: right;\n",
              "    }\n",
              "</style>\n",
              "<table border=\"1\" class=\"dataframe\">\n",
              "  <thead>\n",
              "    <tr style=\"text-align: right;\">\n",
              "      <th></th>\n",
              "      <th>0</th>\n",
              "      <th>1</th>\n",
              "      <th>2</th>\n",
              "      <th>3</th>\n",
              "      <th>4</th>\n",
              "      <th>5</th>\n",
              "    </tr>\n",
              "  </thead>\n",
              "  <tbody>\n",
              "    <tr>\n",
              "      <th>0</th>\n",
              "      <td>0.198290</td>\n",
              "      <td>-0.383784</td>\n",
              "      <td>0.088626</td>\n",
              "      <td>0.031967</td>\n",
              "      <td>0.028117</td>\n",
              "      <td>-0.070646</td>\n",
              "    </tr>\n",
              "    <tr>\n",
              "      <th>1</th>\n",
              "      <td>0.195861</td>\n",
              "      <td>-0.377271</td>\n",
              "      <td>0.074032</td>\n",
              "      <td>0.017982</td>\n",
              "      <td>-0.004652</td>\n",
              "      <td>-0.082240</td>\n",
              "    </tr>\n",
              "    <tr>\n",
              "      <th>2</th>\n",
              "      <td>0.204369</td>\n",
              "      <td>-0.237136</td>\n",
              "      <td>-0.216186</td>\n",
              "      <td>-0.235831</td>\n",
              "      <td>0.077660</td>\n",
              "      <td>-0.149646</td>\n",
              "    </tr>\n",
              "    <tr>\n",
              "      <th>3</th>\n",
              "      <td>0.198337</td>\n",
              "      <td>-0.377721</td>\n",
              "      <td>-0.017166</td>\n",
              "      <td>-0.049942</td>\n",
              "      <td>-0.038536</td>\n",
              "      <td>-0.136660</td>\n",
              "    </tr>\n",
              "    <tr>\n",
              "      <th>4</th>\n",
              "      <td>0.235174</td>\n",
              "      <td>-0.314531</td>\n",
              "      <td>-0.073085</td>\n",
              "      <td>-0.138985</td>\n",
              "      <td>0.024299</td>\n",
              "      <td>-0.111675</td>\n",
              "    </tr>\n",
              "  </tbody>\n",
              "</table>\n",
              "</div>"
            ],
            "text/plain": [
              "          0         1         2         3         4         5\n",
              "0  0.198290 -0.383784  0.088626  0.031967  0.028117 -0.070646\n",
              "1  0.195861 -0.377271  0.074032  0.017982 -0.004652 -0.082240\n",
              "2  0.204369 -0.237136 -0.216186 -0.235831  0.077660 -0.149646\n",
              "3  0.198337 -0.377721 -0.017166 -0.049942 -0.038536 -0.136660\n",
              "4  0.235174 -0.314531 -0.073085 -0.138985  0.024299 -0.111675"
            ]
          },
          "metadata": {
            "tags": []
          },
          "execution_count": 52
        }
      ]
    },
    {
      "cell_type": "markdown",
      "metadata": {
        "id": "vguvK_fAxx88",
        "colab_type": "text"
      },
      "source": [
        "The above loadings are the same as in R."
      ]
    },
    {
      "cell_type": "code",
      "metadata": {
        "id": "76wvxY2Yxx88",
        "colab_type": "code",
        "colab": {
          "base_uri": "https://localhost:8080/",
          "height": 224
        },
        "outputId": "855405d9-9fd9-463e-ebc3-4ae1f879af49"
      },
      "source": [
        "print(X_reduced.shape)\n",
        "pd.DataFrame(X_reduced).loc[:4,:5]"
      ],
      "execution_count": 53,
      "outputs": [
        {
          "output_type": "stream",
          "text": [
            "(263, 19)\n"
          ],
          "name": "stdout"
        },
        {
          "output_type": "execute_result",
          "data": {
            "text/html": [
              "<div>\n",
              "<style scoped>\n",
              "    .dataframe tbody tr th:only-of-type {\n",
              "        vertical-align: middle;\n",
              "    }\n",
              "\n",
              "    .dataframe tbody tr th {\n",
              "        vertical-align: top;\n",
              "    }\n",
              "\n",
              "    .dataframe thead th {\n",
              "        text-align: right;\n",
              "    }\n",
              "</style>\n",
              "<table border=\"1\" class=\"dataframe\">\n",
              "  <thead>\n",
              "    <tr style=\"text-align: right;\">\n",
              "      <th></th>\n",
              "      <th>0</th>\n",
              "      <th>1</th>\n",
              "      <th>2</th>\n",
              "      <th>3</th>\n",
              "      <th>4</th>\n",
              "      <th>5</th>\n",
              "    </tr>\n",
              "  </thead>\n",
              "  <tbody>\n",
              "    <tr>\n",
              "      <th>0</th>\n",
              "      <td>-0.009649</td>\n",
              "      <td>1.870522</td>\n",
              "      <td>1.265145</td>\n",
              "      <td>-0.935481</td>\n",
              "      <td>1.109636</td>\n",
              "      <td>1.211972</td>\n",
              "    </tr>\n",
              "    <tr>\n",
              "      <th>1</th>\n",
              "      <td>0.411434</td>\n",
              "      <td>-2.429422</td>\n",
              "      <td>-0.909193</td>\n",
              "      <td>-0.264212</td>\n",
              "      <td>1.232031</td>\n",
              "      <td>1.826617</td>\n",
              "    </tr>\n",
              "    <tr>\n",
              "      <th>2</th>\n",
              "      <td>3.466822</td>\n",
              "      <td>0.825947</td>\n",
              "      <td>0.555469</td>\n",
              "      <td>-1.616726</td>\n",
              "      <td>-0.857488</td>\n",
              "      <td>-1.028712</td>\n",
              "    </tr>\n",
              "    <tr>\n",
              "      <th>3</th>\n",
              "      <td>-2.558317</td>\n",
              "      <td>-0.230984</td>\n",
              "      <td>0.519642</td>\n",
              "      <td>-2.176251</td>\n",
              "      <td>-0.820301</td>\n",
              "      <td>1.491696</td>\n",
              "    </tr>\n",
              "    <tr>\n",
              "      <th>4</th>\n",
              "      <td>1.027702</td>\n",
              "      <td>-1.573537</td>\n",
              "      <td>1.331382</td>\n",
              "      <td>3.494004</td>\n",
              "      <td>0.983427</td>\n",
              "      <td>0.513675</td>\n",
              "    </tr>\n",
              "  </tbody>\n",
              "</table>\n",
              "</div>"
            ],
            "text/plain": [
              "          0         1         2         3         4         5\n",
              "0 -0.009649  1.870522  1.265145 -0.935481  1.109636  1.211972\n",
              "1  0.411434 -2.429422 -0.909193 -0.264212  1.232031  1.826617\n",
              "2  3.466822  0.825947  0.555469 -1.616726 -0.857488 -1.028712\n",
              "3 -2.558317 -0.230984  0.519642 -2.176251 -0.820301  1.491696\n",
              "4  1.027702 -1.573537  1.331382  3.494004  0.983427  0.513675"
            ]
          },
          "metadata": {
            "tags": []
          },
          "execution_count": 53
        }
      ]
    },
    {
      "cell_type": "markdown",
      "metadata": {
        "id": "qfo0vm89xx88",
        "colab_type": "text"
      },
      "source": [
        "The above principal components are the same as in R."
      ]
    },
    {
      "cell_type": "code",
      "metadata": {
        "id": "P6x12Itsxx88",
        "colab_type": "code",
        "colab": {
          "base_uri": "https://localhost:8080/",
          "height": 69
        },
        "outputId": "829e5071-8dd9-4281-daf9-323bb3472e37"
      },
      "source": [
        "# Variance explained by the principal components\n",
        "np.cumsum(np.round(pca.explained_variance_ratio_, decimals=4)*100)"
      ],
      "execution_count": 54,
      "outputs": [
        {
          "output_type": "execute_result",
          "data": {
            "text/plain": [
              "array([38.31, 60.15, 70.84, 79.03, 84.29, 88.63, 92.26, 94.96, 96.28,\n",
              "       97.25, 97.97, 98.64, 99.14, 99.46, 99.73, 99.88, 99.95, 99.98,\n",
              "       99.99])"
            ]
          },
          "metadata": {
            "tags": []
          },
          "execution_count": 54
        }
      ]
    },
    {
      "cell_type": "code",
      "metadata": {
        "id": "4KRTmoOPxx88",
        "colab_type": "code",
        "colab": {
          "base_uri": "https://localhost:8080/",
          "height": 291
        },
        "outputId": "57eb751b-4e19-4893-8b35-b85f2d4699b3"
      },
      "source": [
        "# 10-fold CV, with shuffle\n",
        "n = len(X_reduced)\n",
        "kf_10 = KFold(n_splits=10, shuffle=True, random_state=1)\n",
        "\n",
        "regr = LinearRegression()\n",
        "mse = []\n",
        "\n",
        "# Calculate MSE with only the intercept (no principal components in regression)\n",
        "score = -1*cross_val_score(regr, np.ones((n,1)), y.ravel(), cv=kf_10, scoring='neg_mean_squared_error').mean()    \n",
        "mse.append(score)\n",
        "\n",
        "# Calculate MSE using CV for the 19 principle components, adding one component at the time.\n",
        "for i in np.arange(1, 20):\n",
        "    score = -1*cross_val_score(regr, X_reduced[:,:i], y.ravel(), cv=kf_10, scoring='neg_mean_squared_error').mean()\n",
        "    mse.append(score)\n",
        "    \n",
        "plt.plot(mse, '-v')\n",
        "plt.xlabel('Number of principal components in regression')\n",
        "plt.ylabel('MSE')\n",
        "plt.title('Salary')\n",
        "plt.xlim(xmin=-1);"
      ],
      "execution_count": 55,
      "outputs": [
        {
          "output_type": "display_data",
          "data": {
            "image/png": "[encoded data removed]",
            "text/plain": [
              "<Figure size 432x288 with 1 Axes>"
            ]
          },
          "metadata": {
            "tags": []
          }
        }
      ]
    },
    {
      "cell_type": "markdown",
      "metadata": {
        "id": "-vSp3t14xx88",
        "colab_type": "text"
      },
      "source": [
        "The above plot indicates that the lowest training MSE is reached when doing regression on 18 components."
      ]
    },
    {
      "cell_type": "code",
      "metadata": {
        "id": "Mi8mU3lGxx88",
        "colab_type": "code",
        "colab": {
          "base_uri": "https://localhost:8080/",
          "height": 104
        },
        "outputId": "8c5ac0b0-6bd0-4b24-ac51-bb1e43cb4cbb"
      },
      "source": [
        "regr_test = LinearRegression()\n",
        "regr_test.fit(X_reduced, y)\n",
        "regr_test.coef_"
      ],
      "execution_count": 56,
      "outputs": [
        {
          "output_type": "execute_result",
          "data": {
            "text/plain": [
              "array([ 106.36859204,  -21.60350456,   24.2942534 ,  -36.9858579 ,\n",
              "        -58.41402748,   62.20632652,   24.63862038,   15.82817701,\n",
              "         29.57680773,   99.64801199,  -30.11209105,   20.99269291,\n",
              "         72.40210574, -276.68551696,  -74.17098665,  422.72580227,\n",
              "       -347.05662353, -561.59691587,  -83.25441536])"
            ]
          },
          "metadata": {
            "tags": []
          },
          "execution_count": 56
        }
      ]
    },
    {
      "cell_type": "markdown",
      "metadata": {
        "id": "DUI-bDAIxx88",
        "colab_type": "text"
      },
      "source": [
        "#### Fitting PCA with training data"
      ]
    },
    {
      "cell_type": "code",
      "metadata": {
        "id": "zdmGmUKqxx88",
        "colab_type": "code",
        "colab": {
          "base_uri": "https://localhost:8080/",
          "height": 346
        },
        "outputId": "509eaca5-a605-46ee-dd0b-36d14f154238"
      },
      "source": [
        "pca2 = PCA()\n",
        "X_reduced_train = pca2.fit_transform(scale(X_train))\n",
        "n = len(X_reduced_train)\n",
        "\n",
        "# 10-fold CV, with shuffle\n",
        "kf_10 = KFold(n_splits=10, shuffle=False, random_state=1)\n",
        "\n",
        "mse = []\n",
        "\n",
        "# Calculate MSE with only the intercept (no principal components in regression)\n",
        "score = -1*cross_val_score(regr, np.ones((n,1)), y_train, cv=kf_10, scoring='neg_mean_squared_error').mean()    \n",
        "mse.append(score)\n",
        "\n",
        "# Calculate MSE using CV for the 19 principle components, adding one component at the time.\n",
        "for i in np.arange(1, 20):\n",
        "    score = -1*cross_val_score(regr, X_reduced_train[:,:i], y_train, cv=kf_10, scoring='neg_mean_squared_error').mean()\n",
        "    mse.append(score)\n",
        "\n",
        "plt.plot(np.array(mse), '-v')\n",
        "plt.xlabel('Number of principal components in regression')\n",
        "plt.ylabel('MSE')\n",
        "plt.title('Salary')\n",
        "plt.xlim(xmin=-1);"
      ],
      "execution_count": 57,
      "outputs": [
        {
          "output_type": "stream",
          "text": [
            "/usr/local/lib/python3.6/dist-packages/sklearn/model_selection/_split.py:296: FutureWarning: Setting a random_state has no effect since shuffle is False. This will raise an error in 0.24. You should leave random_state to its default (None), or set shuffle=True.\n",
            "  FutureWarning\n"
          ],
          "name": "stderr"
        },
        {
          "output_type": "display_data",
          "data": {
            "image/png": "[encoded data removed]",
            "text/plain": [
              "<Figure size 432x288 with 1 Axes>"
            ]
          },
          "metadata": {
            "tags": []
          }
        }
      ]
    },
    {
      "cell_type": "markdown",
      "metadata": {
        "id": "vvLB_Cwvxx88",
        "colab_type": "text"
      },
      "source": [
        "The above plot indicates that the lowest training MSE is reached when doing regression on 6 components."
      ]
    },
    {
      "cell_type": "markdown",
      "metadata": {
        "id": "H6FD41noxx88",
        "colab_type": "text"
      },
      "source": [
        "#### Transform test data with PCA loadings and fit regression on 6 principal components"
      ]
    },
    {
      "cell_type": "code",
      "metadata": {
        "id": "Ngi2gvqsxx88",
        "colab_type": "code",
        "colab": {
          "base_uri": "https://localhost:8080/",
          "height": 34
        },
        "outputId": "39127a30-d506-4811-a438-3e3337500e25"
      },
      "source": [
        "X_reduced_test = pca2.transform(scale(X_test))[:,:7]\n",
        "\n",
        "# Train regression model on training data \n",
        "regr = LinearRegression()\n",
        "regr.fit(X_reduced_train[:,:7], y_train)\n",
        "\n",
        "# Prediction with test data\n",
        "pred = regr.predict(X_reduced_test)\n",
        "mean_squared_error(y_test, pred)"
      ],
      "execution_count": 58,
      "outputs": [
        {
          "output_type": "execute_result",
          "data": {
            "text/plain": [
              "96320.02078250323"
            ]
          },
          "metadata": {
            "tags": []
          },
          "execution_count": 58
        }
      ]
    },
    {
      "cell_type": "markdown",
      "metadata": {
        "id": "wEzdN6Z4xx-g",
        "colab_type": "text"
      },
      "source": [
        "### 6.7.2 Partial Least Squares"
      ]
    },
    {
      "cell_type": "markdown",
      "metadata": {
        "id": "r-RLl3j_xx-g",
        "colab_type": "text"
      },
      "source": [
        "Scikit-learn PLSRegression gives same results as the pls package in R when using 'method='oscorespls'. In the LAB excercise, the standard method is used which is 'kernelpls'. \n",
        "\n",
        "When doing a slightly different fitting in R, the result is close to the one obtained using scikit-learn.\n",
        "\n",
        "    pls.fit=plsr(Salary~., data=Hitters, subset=train, scale=TRUE, validation=\"CV\", method='oscorespls')\n",
        "    validationplot(pls.fit,val.type=\"MSEP\", intercept = FALSE)\n",
        "   \n",
        "See documentation:\n",
        "http://scikit-learn.org/dev/modules/generated/sklearn.cross_decomposition.PLSRegression.html#sklearn.cross_decomposition.PLSRegression"
      ]
    },
    {
      "cell_type": "code",
      "metadata": {
        "id": "5Y1yUbRRxx-g",
        "colab_type": "code",
        "colab": {
          "base_uri": "https://localhost:8080/",
          "height": 346
        },
        "outputId": "8f4bf117-e6de-43e3-caf0-0b62f0e6b074"
      },
      "source": [
        "n = len(X_train)\n",
        "\n",
        "# 10-fold CV, with shuffle\n",
        "kf_10 = KFold(n_splits=10, shuffle=False, random_state=1)\n",
        "\n",
        "mse = []\n",
        "\n",
        "for i in np.arange(1, 20):\n",
        "    pls = PLSRegression(n_components=i)\n",
        "    score = cross_val_score(pls, scale(X_train), y_train, cv=kf_10, scoring='neg_mean_squared_error').mean()\n",
        "    mse.append(-score)\n",
        "\n",
        "plt.plot(np.arange(1, 20), np.array(mse), '-v')\n",
        "plt.xlabel('Number of principal components in regression')\n",
        "plt.ylabel('MSE')\n",
        "plt.title('Salary')\n",
        "plt.xlim(xmin=-1);"
      ],
      "execution_count": 59,
      "outputs": [
        {
          "output_type": "stream",
          "text": [
            "/usr/local/lib/python3.6/dist-packages/sklearn/model_selection/_split.py:296: FutureWarning: Setting a random_state has no effect since shuffle is False. This will raise an error in 0.24. You should leave random_state to its default (None), or set shuffle=True.\n",
            "  FutureWarning\n"
          ],
          "name": "stderr"
        },
        {
          "output_type": "display_data",
          "data": {
            "image/png": "[encoded data removed]",
            "text/plain": [
              "<Figure size 432x288 with 1 Axes>"
            ]
          },
          "metadata": {
            "tags": []
          }
        }
      ]
    },
    {
      "cell_type": "code",
      "metadata": {
        "id": "TO7UISmGxx-g",
        "colab_type": "code",
        "colab": {
          "base_uri": "https://localhost:8080/",
          "height": 34
        },
        "outputId": "13d4e693-109e-4af1-c08f-9977925785db"
      },
      "source": [
        "pls = PLSRegression(n_components=2)\n",
        "pls.fit(scale(X_train), y_train)\n",
        "\n",
        "mean_squared_error(y_test, pls.predict(scale(X_test)))"
      ],
      "execution_count": 60,
      "outputs": [
        {
          "output_type": "execute_result",
          "data": {
            "text/plain": [
              "102234.27995999217"
            ]
          },
          "metadata": {
            "tags": []
          },
          "execution_count": 60
        }
      ]
    }
  ]
}