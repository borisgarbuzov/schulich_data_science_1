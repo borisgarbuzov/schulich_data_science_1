{
  "nbformat": 4,
  "nbformat_minor": 0,
  "metadata": {
    "colab": {
      "name": "stmodels.ipynb",
      "provenance": []
    },
    "kernelspec": {
      "name": "python3",
      "display_name": "Python 3"
    }
  },
  "cells": [
    {
      "cell_type": "code",
      "metadata": {
        "id": "6DFyRWwp5TnY",
        "colab_type": "code",
        "colab": {
          "base_uri": "https://localhost:8080/",
          "height": 72
        },
        "outputId": "671db83e-594b-4397-8a1d-0a8d50a1f4dc"
      },
      "source": [
        "import statsmodels.api as sm\n",
        "import pandas as pd\n",
        "from patsy import dmatrices"
      ],
      "execution_count": 1,
      "outputs": [
        {
          "output_type": "stream",
          "text": [
            "/usr/local/lib/python3.6/dist-packages/statsmodels/tools/_testing.py:19: FutureWarning: pandas.util.testing is deprecated. Use the functions in the public API at pandas.testing instead.\n",
            "  import pandas.util.testing as tm\n"
          ],
          "name": "stderr"
        }
      ]
    },
    {
      "cell_type": "code",
      "metadata": {
        "id": "_oBl4dHH59b8",
        "colab_type": "code",
        "colab": {}
      },
      "source": [
        "# gery remote datasaet\n",
        "df = sm.datasets.get_rdataset(\"Guerry\", \"HistData\").data"
      ],
      "execution_count": 2,
      "outputs": []
    },
    {
      "cell_type": "code",
      "metadata": {
        "id": "N7tYJX1N6Dls",
        "colab_type": "code",
        "colab": {
          "base_uri": "https://localhost:8080/",
          "height": 261
        },
        "outputId": "66142b62-98a6-4f9a-e0ec-4e29bac62c2c"
      },
      "source": [
        "df.head()"
      ],
      "execution_count": 4,
      "outputs": [
        {
          "output_type": "execute_result",
          "data": {
            "text/html": [
              "<div>\n",
              "<style scoped>\n",
              "    .dataframe tbody tr th:only-of-type {\n",
              "        vertical-align: middle;\n",
              "    }\n",
              "\n",
              "    .dataframe tbody tr th {\n",
              "        vertical-align: top;\n",
              "    }\n",
              "\n",
              "    .dataframe thead th {\n",
              "        text-align: right;\n",
              "    }\n",
              "</style>\n",
              "<table border=\"1\" class=\"dataframe\">\n",
              "  <thead>\n",
              "    <tr style=\"text-align: right;\">\n",
              "      <th></th>\n",
              "      <th>dept</th>\n",
              "      <th>Region</th>\n",
              "      <th>Department</th>\n",
              "      <th>Crime_pers</th>\n",
              "      <th>Crime_prop</th>\n",
              "      <th>Literacy</th>\n",
              "      <th>Donations</th>\n",
              "      <th>Infants</th>\n",
              "      <th>Suicides</th>\n",
              "      <th>MainCity</th>\n",
              "      <th>Wealth</th>\n",
              "      <th>Commerce</th>\n",
              "      <th>Clergy</th>\n",
              "      <th>Crime_parents</th>\n",
              "      <th>Infanticide</th>\n",
              "      <th>Donation_clergy</th>\n",
              "      <th>Lottery</th>\n",
              "      <th>Desertion</th>\n",
              "      <th>Instruction</th>\n",
              "      <th>Prostitutes</th>\n",
              "      <th>Distance</th>\n",
              "      <th>Area</th>\n",
              "      <th>Pop1831</th>\n",
              "    </tr>\n",
              "  </thead>\n",
              "  <tbody>\n",
              "    <tr>\n",
              "      <th>0</th>\n",
              "      <td>1</td>\n",
              "      <td>E</td>\n",
              "      <td>Ain</td>\n",
              "      <td>28870</td>\n",
              "      <td>15890</td>\n",
              "      <td>37</td>\n",
              "      <td>5098</td>\n",
              "      <td>33120</td>\n",
              "      <td>35039</td>\n",
              "      <td>2:Med</td>\n",
              "      <td>73</td>\n",
              "      <td>58</td>\n",
              "      <td>11</td>\n",
              "      <td>71</td>\n",
              "      <td>60</td>\n",
              "      <td>69</td>\n",
              "      <td>41</td>\n",
              "      <td>55</td>\n",
              "      <td>46</td>\n",
              "      <td>13</td>\n",
              "      <td>218.372</td>\n",
              "      <td>5762</td>\n",
              "      <td>346.03</td>\n",
              "    </tr>\n",
              "    <tr>\n",
              "      <th>1</th>\n",
              "      <td>2</td>\n",
              "      <td>N</td>\n",
              "      <td>Aisne</td>\n",
              "      <td>26226</td>\n",
              "      <td>5521</td>\n",
              "      <td>51</td>\n",
              "      <td>8901</td>\n",
              "      <td>14572</td>\n",
              "      <td>12831</td>\n",
              "      <td>2:Med</td>\n",
              "      <td>22</td>\n",
              "      <td>10</td>\n",
              "      <td>82</td>\n",
              "      <td>4</td>\n",
              "      <td>82</td>\n",
              "      <td>36</td>\n",
              "      <td>38</td>\n",
              "      <td>82</td>\n",
              "      <td>24</td>\n",
              "      <td>327</td>\n",
              "      <td>65.945</td>\n",
              "      <td>7369</td>\n",
              "      <td>513.00</td>\n",
              "    </tr>\n",
              "    <tr>\n",
              "      <th>2</th>\n",
              "      <td>3</td>\n",
              "      <td>C</td>\n",
              "      <td>Allier</td>\n",
              "      <td>26747</td>\n",
              "      <td>7925</td>\n",
              "      <td>13</td>\n",
              "      <td>10973</td>\n",
              "      <td>17044</td>\n",
              "      <td>114121</td>\n",
              "      <td>2:Med</td>\n",
              "      <td>61</td>\n",
              "      <td>66</td>\n",
              "      <td>68</td>\n",
              "      <td>46</td>\n",
              "      <td>42</td>\n",
              "      <td>76</td>\n",
              "      <td>66</td>\n",
              "      <td>16</td>\n",
              "      <td>85</td>\n",
              "      <td>34</td>\n",
              "      <td>161.927</td>\n",
              "      <td>7340</td>\n",
              "      <td>298.26</td>\n",
              "    </tr>\n",
              "    <tr>\n",
              "      <th>3</th>\n",
              "      <td>4</td>\n",
              "      <td>E</td>\n",
              "      <td>Basses-Alpes</td>\n",
              "      <td>12935</td>\n",
              "      <td>7289</td>\n",
              "      <td>46</td>\n",
              "      <td>2733</td>\n",
              "      <td>23018</td>\n",
              "      <td>14238</td>\n",
              "      <td>1:Sm</td>\n",
              "      <td>76</td>\n",
              "      <td>49</td>\n",
              "      <td>5</td>\n",
              "      <td>70</td>\n",
              "      <td>12</td>\n",
              "      <td>37</td>\n",
              "      <td>80</td>\n",
              "      <td>32</td>\n",
              "      <td>29</td>\n",
              "      <td>2</td>\n",
              "      <td>351.399</td>\n",
              "      <td>6925</td>\n",
              "      <td>155.90</td>\n",
              "    </tr>\n",
              "    <tr>\n",
              "      <th>4</th>\n",
              "      <td>5</td>\n",
              "      <td>E</td>\n",
              "      <td>Hautes-Alpes</td>\n",
              "      <td>17488</td>\n",
              "      <td>8174</td>\n",
              "      <td>69</td>\n",
              "      <td>6962</td>\n",
              "      <td>23076</td>\n",
              "      <td>16171</td>\n",
              "      <td>1:Sm</td>\n",
              "      <td>83</td>\n",
              "      <td>65</td>\n",
              "      <td>10</td>\n",
              "      <td>22</td>\n",
              "      <td>23</td>\n",
              "      <td>64</td>\n",
              "      <td>79</td>\n",
              "      <td>35</td>\n",
              "      <td>7</td>\n",
              "      <td>1</td>\n",
              "      <td>320.280</td>\n",
              "      <td>5549</td>\n",
              "      <td>129.10</td>\n",
              "    </tr>\n",
              "  </tbody>\n",
              "</table>\n",
              "</div>"
            ],
            "text/plain": [
              "   dept Region    Department  Crime_pers  ...  Prostitutes  Distance  Area  Pop1831\n",
              "0     1      E           Ain       28870  ...           13   218.372  5762   346.03\n",
              "1     2      N         Aisne       26226  ...          327    65.945  7369   513.00\n",
              "2     3      C        Allier       26747  ...           34   161.927  7340   298.26\n",
              "3     4      E  Basses-Alpes       12935  ...            2   351.399  6925   155.90\n",
              "4     5      E  Hautes-Alpes       17488  ...            1   320.280  5549   129.10\n",
              "\n",
              "[5 rows x 23 columns]"
            ]
          },
          "metadata": {
            "tags": []
          },
          "execution_count": 4
        }
      ]
    },
    {
      "cell_type": "code",
      "metadata": {
        "id": "tM5gKi_J6FJs",
        "colab_type": "code",
        "colab": {
          "base_uri": "https://localhost:8080/",
          "height": 206
        },
        "outputId": "8f427de6-1650-4d00-b3ef-d0d40ae6284f"
      },
      "source": [
        "vars = ['Department', 'Lottery', 'Literacy', 'Wealth', 'Region']\n",
        "df = df[vars]\n",
        "df.tail()\n"
      ],
      "execution_count": 7,
      "outputs": [
        {
          "output_type": "execute_result",
          "data": {
            "text/html": [
              "<div>\n",
              "<style scoped>\n",
              "    .dataframe tbody tr th:only-of-type {\n",
              "        vertical-align: middle;\n",
              "    }\n",
              "\n",
              "    .dataframe tbody tr th {\n",
              "        vertical-align: top;\n",
              "    }\n",
              "\n",
              "    .dataframe thead th {\n",
              "        text-align: right;\n",
              "    }\n",
              "</style>\n",
              "<table border=\"1\" class=\"dataframe\">\n",
              "  <thead>\n",
              "    <tr style=\"text-align: right;\">\n",
              "      <th></th>\n",
              "      <th>Department</th>\n",
              "      <th>Lottery</th>\n",
              "      <th>Literacy</th>\n",
              "      <th>Wealth</th>\n",
              "      <th>Region</th>\n",
              "    </tr>\n",
              "  </thead>\n",
              "  <tbody>\n",
              "    <tr>\n",
              "      <th>81</th>\n",
              "      <td>Vienne</td>\n",
              "      <td>40</td>\n",
              "      <td>25</td>\n",
              "      <td>68</td>\n",
              "      <td>W</td>\n",
              "    </tr>\n",
              "    <tr>\n",
              "      <th>82</th>\n",
              "      <td>Haute-Vienne</td>\n",
              "      <td>55</td>\n",
              "      <td>13</td>\n",
              "      <td>67</td>\n",
              "      <td>C</td>\n",
              "    </tr>\n",
              "    <tr>\n",
              "      <th>83</th>\n",
              "      <td>Vosges</td>\n",
              "      <td>14</td>\n",
              "      <td>62</td>\n",
              "      <td>82</td>\n",
              "      <td>E</td>\n",
              "    </tr>\n",
              "    <tr>\n",
              "      <th>84</th>\n",
              "      <td>Yonne</td>\n",
              "      <td>51</td>\n",
              "      <td>47</td>\n",
              "      <td>30</td>\n",
              "      <td>C</td>\n",
              "    </tr>\n",
              "    <tr>\n",
              "      <th>85</th>\n",
              "      <td>Corse</td>\n",
              "      <td>83</td>\n",
              "      <td>49</td>\n",
              "      <td>37</td>\n",
              "      <td>NaN</td>\n",
              "    </tr>\n",
              "  </tbody>\n",
              "</table>\n",
              "</div>"
            ],
            "text/plain": [
              "      Department  Lottery  Literacy  Wealth Region\n",
              "81        Vienne       40        25      68      W\n",
              "82  Haute-Vienne       55        13      67      C\n",
              "83        Vosges       14        62      82      E\n",
              "84         Yonne       51        47      30      C\n",
              "85         Corse       83        49      37    NaN"
            ]
          },
          "metadata": {
            "tags": []
          },
          "execution_count": 7
        }
      ]
    },
    {
      "cell_type": "code",
      "metadata": {
        "id": "_FpH1Fh86LmM",
        "colab_type": "code",
        "colab": {
          "base_uri": "https://localhost:8080/",
          "height": 206
        },
        "outputId": "86f8ed6d-bf4f-4a9e-f326-927022113b29"
      },
      "source": [
        "# drop none value\n",
        "df = df.dropna()\n",
        "df.tail()"
      ],
      "execution_count": 8,
      "outputs": [
        {
          "output_type": "execute_result",
          "data": {
            "text/html": [
              "<div>\n",
              "<style scoped>\n",
              "    .dataframe tbody tr th:only-of-type {\n",
              "        vertical-align: middle;\n",
              "    }\n",
              "\n",
              "    .dataframe tbody tr th {\n",
              "        vertical-align: top;\n",
              "    }\n",
              "\n",
              "    .dataframe thead th {\n",
              "        text-align: right;\n",
              "    }\n",
              "</style>\n",
              "<table border=\"1\" class=\"dataframe\">\n",
              "  <thead>\n",
              "    <tr style=\"text-align: right;\">\n",
              "      <th></th>\n",
              "      <th>Department</th>\n",
              "      <th>Lottery</th>\n",
              "      <th>Literacy</th>\n",
              "      <th>Wealth</th>\n",
              "      <th>Region</th>\n",
              "    </tr>\n",
              "  </thead>\n",
              "  <tbody>\n",
              "    <tr>\n",
              "      <th>80</th>\n",
              "      <td>Vendee</td>\n",
              "      <td>68</td>\n",
              "      <td>28</td>\n",
              "      <td>56</td>\n",
              "      <td>W</td>\n",
              "    </tr>\n",
              "    <tr>\n",
              "      <th>81</th>\n",
              "      <td>Vienne</td>\n",
              "      <td>40</td>\n",
              "      <td>25</td>\n",
              "      <td>68</td>\n",
              "      <td>W</td>\n",
              "    </tr>\n",
              "    <tr>\n",
              "      <th>82</th>\n",
              "      <td>Haute-Vienne</td>\n",
              "      <td>55</td>\n",
              "      <td>13</td>\n",
              "      <td>67</td>\n",
              "      <td>C</td>\n",
              "    </tr>\n",
              "    <tr>\n",
              "      <th>83</th>\n",
              "      <td>Vosges</td>\n",
              "      <td>14</td>\n",
              "      <td>62</td>\n",
              "      <td>82</td>\n",
              "      <td>E</td>\n",
              "    </tr>\n",
              "    <tr>\n",
              "      <th>84</th>\n",
              "      <td>Yonne</td>\n",
              "      <td>51</td>\n",
              "      <td>47</td>\n",
              "      <td>30</td>\n",
              "      <td>C</td>\n",
              "    </tr>\n",
              "  </tbody>\n",
              "</table>\n",
              "</div>"
            ],
            "text/plain": [
              "      Department  Lottery  Literacy  Wealth Region\n",
              "80        Vendee       68        28      56      W\n",
              "81        Vienne       40        25      68      W\n",
              "82  Haute-Vienne       55        13      67      C\n",
              "83        Vosges       14        62      82      E\n",
              "84         Yonne       51        47      30      C"
            ]
          },
          "metadata": {
            "tags": []
          },
          "execution_count": 8
        }
      ]
    },
    {
      "cell_type": "markdown",
      "metadata": {
        "id": "qMS8PoU-6zyE",
        "colab_type": "text"
      },
      "source": [
        "Substantive motivation and model¶\n",
        "\n",
        "We want to know whether literacy rates in the 86 French departments are associated with per capita wagers on the Royal Lottery in the 1820s. We need to control for the level of wealth in each department, and we also want to include a series of dummy variables on the right-hand side of our regression equation to control for unobserved heterogeneity due to regional effects. The model is estimated using ordinary least squares regression (OLS)."
      ]
    },
    {
      "cell_type": "code",
      "metadata": {
        "id": "kCzGvgik6Lsc",
        "colab_type": "code",
        "colab": {
          "base_uri": "https://localhost:8080/",
          "height": 143
        },
        "outputId": "f69346c4-586a-445a-b69e-1433f4d75479"
      },
      "source": [
        "y, X = dmatrices('Lottery ~ Literacy + Wealth + Region', data=df, return_type='dataframe')\n",
        "y.head(3)"
      ],
      "execution_count": 10,
      "outputs": [
        {
          "output_type": "execute_result",
          "data": {
            "text/html": [
              "<div>\n",
              "<style scoped>\n",
              "    .dataframe tbody tr th:only-of-type {\n",
              "        vertical-align: middle;\n",
              "    }\n",
              "\n",
              "    .dataframe tbody tr th {\n",
              "        vertical-align: top;\n",
              "    }\n",
              "\n",
              "    .dataframe thead th {\n",
              "        text-align: right;\n",
              "    }\n",
              "</style>\n",
              "<table border=\"1\" class=\"dataframe\">\n",
              "  <thead>\n",
              "    <tr style=\"text-align: right;\">\n",
              "      <th></th>\n",
              "      <th>Lottery</th>\n",
              "    </tr>\n",
              "  </thead>\n",
              "  <tbody>\n",
              "    <tr>\n",
              "      <th>0</th>\n",
              "      <td>41.0</td>\n",
              "    </tr>\n",
              "    <tr>\n",
              "      <th>1</th>\n",
              "      <td>38.0</td>\n",
              "    </tr>\n",
              "    <tr>\n",
              "      <th>2</th>\n",
              "      <td>66.0</td>\n",
              "    </tr>\n",
              "  </tbody>\n",
              "</table>\n",
              "</div>"
            ],
            "text/plain": [
              "   Lottery\n",
              "0     41.0\n",
              "1     38.0\n",
              "2     66.0"
            ]
          },
          "metadata": {
            "tags": []
          },
          "execution_count": 10
        }
      ]
    },
    {
      "cell_type": "code",
      "metadata": {
        "id": "0SG8HG-r6Lq4",
        "colab_type": "code",
        "colab": {
          "base_uri": "https://localhost:8080/",
          "height": 143
        },
        "outputId": "12855199-3bf0-4d01-ca90-15084ecc85c5"
      },
      "source": [
        "X.head(3)"
      ],
      "execution_count": 11,
      "outputs": [
        {
          "output_type": "execute_result",
          "data": {
            "text/html": [
              "<div>\n",
              "<style scoped>\n",
              "    .dataframe tbody tr th:only-of-type {\n",
              "        vertical-align: middle;\n",
              "    }\n",
              "\n",
              "    .dataframe tbody tr th {\n",
              "        vertical-align: top;\n",
              "    }\n",
              "\n",
              "    .dataframe thead th {\n",
              "        text-align: right;\n",
              "    }\n",
              "</style>\n",
              "<table border=\"1\" class=\"dataframe\">\n",
              "  <thead>\n",
              "    <tr style=\"text-align: right;\">\n",
              "      <th></th>\n",
              "      <th>Intercept</th>\n",
              "      <th>Region[T.E]</th>\n",
              "      <th>Region[T.N]</th>\n",
              "      <th>Region[T.S]</th>\n",
              "      <th>Region[T.W]</th>\n",
              "      <th>Literacy</th>\n",
              "      <th>Wealth</th>\n",
              "    </tr>\n",
              "  </thead>\n",
              "  <tbody>\n",
              "    <tr>\n",
              "      <th>0</th>\n",
              "      <td>1.0</td>\n",
              "      <td>1.0</td>\n",
              "      <td>0.0</td>\n",
              "      <td>0.0</td>\n",
              "      <td>0.0</td>\n",
              "      <td>37.0</td>\n",
              "      <td>73.0</td>\n",
              "    </tr>\n",
              "    <tr>\n",
              "      <th>1</th>\n",
              "      <td>1.0</td>\n",
              "      <td>0.0</td>\n",
              "      <td>1.0</td>\n",
              "      <td>0.0</td>\n",
              "      <td>0.0</td>\n",
              "      <td>51.0</td>\n",
              "      <td>22.0</td>\n",
              "    </tr>\n",
              "    <tr>\n",
              "      <th>2</th>\n",
              "      <td>1.0</td>\n",
              "      <td>0.0</td>\n",
              "      <td>0.0</td>\n",
              "      <td>0.0</td>\n",
              "      <td>0.0</td>\n",
              "      <td>13.0</td>\n",
              "      <td>61.0</td>\n",
              "    </tr>\n",
              "  </tbody>\n",
              "</table>\n",
              "</div>"
            ],
            "text/plain": [
              "   Intercept  Region[T.E]  Region[T.N]  ...  Region[T.W]  Literacy  Wealth\n",
              "0        1.0          1.0          0.0  ...          0.0      37.0    73.0\n",
              "1        1.0          0.0          1.0  ...          0.0      51.0    22.0\n",
              "2        1.0          0.0          0.0  ...          0.0      13.0    61.0\n",
              "\n",
              "[3 rows x 7 columns]"
            ]
          },
          "metadata": {
            "tags": []
          },
          "execution_count": 11
        }
      ]
    },
    {
      "cell_type": "code",
      "metadata": {
        "id": "qGE6bNSq7U0I",
        "colab_type": "code",
        "colab": {
          "base_uri": "https://localhost:8080/",
          "height": 538
        },
        "outputId": "8878c955-668b-4e4d-807f-466190174772"
      },
      "source": [
        "# models and fit\n",
        "\n",
        "mod = sm.OLS(y, X)    # Describe model\n",
        "res = mod.fit()       # Fit model\n",
        "print(res.summary())   # Summarize model"
      ],
      "execution_count": 12,
      "outputs": [
        {
          "output_type": "stream",
          "text": [
            "                            OLS Regression Results                            \n",
            "==============================================================================\n",
            "Dep. Variable:                Lottery   R-squared:                       0.338\n",
            "Model:                            OLS   Adj. R-squared:                  0.287\n",
            "Method:                 Least Squares   F-statistic:                     6.636\n",
            "Date:                Tue, 15 Sep 2020   Prob (F-statistic):           1.07e-05\n",
            "Time:                        18:02:46   Log-Likelihood:                -375.30\n",
            "No. Observations:                  85   AIC:                             764.6\n",
            "Df Residuals:                      78   BIC:                             781.7\n",
            "Df Model:                           6                                         \n",
            "Covariance Type:            nonrobust                                         \n",
            "===============================================================================\n",
            "                  coef    std err          t      P>|t|      [0.025      0.975]\n",
            "-------------------------------------------------------------------------------\n",
            "Intercept      38.6517      9.456      4.087      0.000      19.826      57.478\n",
            "Region[T.E]   -15.4278      9.727     -1.586      0.117     -34.793       3.938\n",
            "Region[T.N]   -10.0170      9.260     -1.082      0.283     -28.453       8.419\n",
            "Region[T.S]    -4.5483      7.279     -0.625      0.534     -19.039       9.943\n",
            "Region[T.W]   -10.0913      7.196     -1.402      0.165     -24.418       4.235\n",
            "Literacy       -0.1858      0.210     -0.886      0.378      -0.603       0.232\n",
            "Wealth          0.4515      0.103      4.390      0.000       0.247       0.656\n",
            "==============================================================================\n",
            "Omnibus:                        3.049   Durbin-Watson:                   1.785\n",
            "Prob(Omnibus):                  0.218   Jarque-Bera (JB):                2.694\n",
            "Skew:                          -0.340   Prob(JB):                        0.260\n",
            "Kurtosis:                       2.454   Cond. No.                         371.\n",
            "==============================================================================\n",
            "\n",
            "Warnings:\n",
            "[1] Standard Errors assume that the covariance matrix of the errors is correctly specified.\n"
          ],
          "name": "stdout"
        }
      ]
    },
    {
      "cell_type": "code",
      "metadata": {
        "id": "cgRHvxzj8Gyk",
        "colab_type": "code",
        "colab": {
          "base_uri": "https://localhost:8080/",
          "height": 156
        },
        "outputId": "db624d0d-4805-42e3-b2ec-5c4abe2c251e"
      },
      "source": [
        "# The res object has many useful attributes. For example, we can extract parameter estimates and r-squared by typing:\n",
        "res.params"
      ],
      "execution_count": 13,
      "outputs": [
        {
          "output_type": "execute_result",
          "data": {
            "text/plain": [
              "Intercept      38.651655\n",
              "Region[T.E]   -15.427785\n",
              "Region[T.N]   -10.016961\n",
              "Region[T.S]    -4.548257\n",
              "Region[T.W]   -10.091276\n",
              "Literacy       -0.185819\n",
              "Wealth          0.451475\n",
              "dtype: float64"
            ]
          },
          "metadata": {
            "tags": []
          },
          "execution_count": 13
        }
      ]
    },
    {
      "cell_type": "code",
      "metadata": {
        "id": "YbOJ7lKM8G3Q",
        "colab_type": "code",
        "colab": {
          "base_uri": "https://localhost:8080/",
          "height": 34
        },
        "outputId": "3862340c-a6bc-4d84-afb1-58368b282acb"
      },
      "source": [
        "res.rsquared"
      ],
      "execution_count": 14,
      "outputs": [
        {
          "output_type": "execute_result",
          "data": {
            "text/plain": [
              "0.337950869192882"
            ]
          },
          "metadata": {
            "tags": []
          },
          "execution_count": 14
        }
      ]
    },
    {
      "cell_type": "code",
      "metadata": {
        "id": "fXEMJpia8G9g",
        "colab_type": "code",
        "colab": {
          "base_uri": "https://localhost:8080/",
          "height": 1000
        },
        "outputId": "b452b1d0-6d10-44df-c56c-dcf77dcace80"
      },
      "source": [
        "dir(res)"
      ],
      "execution_count": 15,
      "outputs": [
        {
          "output_type": "execute_result",
          "data": {
            "text/plain": [
              "['HC0_se',\n",
              " 'HC1_se',\n",
              " 'HC2_se',\n",
              " 'HC3_se',\n",
              " '_HCCM',\n",
              " '__class__',\n",
              " '__delattr__',\n",
              " '__dict__',\n",
              " '__dir__',\n",
              " '__doc__',\n",
              " '__eq__',\n",
              " '__format__',\n",
              " '__ge__',\n",
              " '__getattribute__',\n",
              " '__gt__',\n",
              " '__hash__',\n",
              " '__init__',\n",
              " '__init_subclass__',\n",
              " '__le__',\n",
              " '__lt__',\n",
              " '__module__',\n",
              " '__ne__',\n",
              " '__new__',\n",
              " '__reduce__',\n",
              " '__reduce_ex__',\n",
              " '__repr__',\n",
              " '__setattr__',\n",
              " '__sizeof__',\n",
              " '__str__',\n",
              " '__subclasshook__',\n",
              " '__weakref__',\n",
              " '_cache',\n",
              " '_data_attr',\n",
              " '_get_robustcov_results',\n",
              " '_is_nested',\n",
              " '_wexog_singular_values',\n",
              " 'aic',\n",
              " 'bic',\n",
              " 'bse',\n",
              " 'centered_tss',\n",
              " 'compare_f_test',\n",
              " 'compare_lm_test',\n",
              " 'compare_lr_test',\n",
              " 'condition_number',\n",
              " 'conf_int',\n",
              " 'conf_int_el',\n",
              " 'cov_HC0',\n",
              " 'cov_HC1',\n",
              " 'cov_HC2',\n",
              " 'cov_HC3',\n",
              " 'cov_kwds',\n",
              " 'cov_params',\n",
              " 'cov_type',\n",
              " 'df_model',\n",
              " 'df_resid',\n",
              " 'diagn',\n",
              " 'eigenvals',\n",
              " 'el_test',\n",
              " 'ess',\n",
              " 'f_pvalue',\n",
              " 'f_test',\n",
              " 'fittedvalues',\n",
              " 'fvalue',\n",
              " 'get_influence',\n",
              " 'get_prediction',\n",
              " 'get_robustcov_results',\n",
              " 'initialize',\n",
              " 'k_constant',\n",
              " 'llf',\n",
              " 'load',\n",
              " 'model',\n",
              " 'mse_model',\n",
              " 'mse_resid',\n",
              " 'mse_total',\n",
              " 'nobs',\n",
              " 'normalized_cov_params',\n",
              " 'outlier_test',\n",
              " 'params',\n",
              " 'predict',\n",
              " 'pvalues',\n",
              " 'remove_data',\n",
              " 'resid',\n",
              " 'resid_pearson',\n",
              " 'rsquared',\n",
              " 'rsquared_adj',\n",
              " 'save',\n",
              " 'scale',\n",
              " 'ssr',\n",
              " 'summary',\n",
              " 'summary2',\n",
              " 't_test',\n",
              " 't_test_pairwise',\n",
              " 'tvalues',\n",
              " 'uncentered_tss',\n",
              " 'use_t',\n",
              " 'wald_test',\n",
              " 'wald_test_terms',\n",
              " 'wresid']"
            ]
          },
          "metadata": {
            "tags": []
          },
          "execution_count": 15
        }
      ]
    },
    {
      "cell_type": "code",
      "metadata": {
        "id": "vB7k3RiJ8HLk",
        "colab_type": "code",
        "colab": {
          "base_uri": "https://localhost:8080/",
          "height": 34
        },
        "outputId": "e975e1fd-19fc-434f-b312-8e9030511a97"
      },
      "source": [
        "# Diagnostics and specification tests¶\n",
        "sm.stats.linear_rainbow(res)"
      ],
      "execution_count": 16,
      "outputs": [
        {
          "output_type": "execute_result",
          "data": {
            "text/plain": [
              "(0.8472339976156916, 0.6997965543621643)"
            ]
          },
          "metadata": {
            "tags": []
          },
          "execution_count": 16
        }
      ]
    },
    {
      "cell_type": "code",
      "metadata": {
        "id": "gSNj1o6n8HG4",
        "colab_type": "code",
        "colab": {
          "base_uri": "https://localhost:8080/",
          "height": 575
        },
        "outputId": "41e288d1-4397-49cb-f8ba-2bf5b5e872d9"
      },
      "source": [
        "#\n",
        "sm.graphics.plot_partregress('Lottery', 'Wealth', ['Region', 'Literacy'], data=df, obs_labels=False)"
      ],
      "execution_count": 18,
      "outputs": [
        {
          "output_type": "execute_result",
          "data": {
            "image/png": "[encoded data removed]",
            "text/plain": [
              "<Figure size 432x288 with 1 Axes>"
            ]
          },
          "metadata": {
            "tags": []
          },
          "execution_count": 18
        },
        {
          "output_type": "display_data",
          "data": {
            "image/png": "[encoded data removed]",
            "text/plain": [
              "<Figure size 432x288 with 1 Axes>"
            ]
          },
          "metadata": {
            "tags": [],
            "needs_background": "light"
          }
        }
      ]
    },
    {
      "cell_type": "code",
      "metadata": {
        "id": "tUJzVSIL8HDw",
        "colab_type": "code",
        "colab": {}
      },
      "source": [
        ""
      ],
      "execution_count": null,
      "outputs": []
    },
    {
      "cell_type": "code",
      "metadata": {
        "id": "o__7Guub8HCM",
        "colab_type": "code",
        "colab": {}
      },
      "source": [
        ""
      ],
      "execution_count": null,
      "outputs": []
    },
    {
      "cell_type": "code",
      "metadata": {
        "id": "IasMqneG8HAo",
        "colab_type": "code",
        "colab": {}
      },
      "source": [
        ""
      ],
      "execution_count": null,
      "outputs": []
    },
    {
      "cell_type": "code",
      "metadata": {
        "id": "xytX4v-38G6Y",
        "colab_type": "code",
        "colab": {}
      },
      "source": [
        ""
      ],
      "execution_count": null,
      "outputs": []
    }
  ]
}