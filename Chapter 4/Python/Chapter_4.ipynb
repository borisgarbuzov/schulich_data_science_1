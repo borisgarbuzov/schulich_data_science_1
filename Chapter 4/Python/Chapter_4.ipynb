{
  "nbformat": 4,
  "nbformat_minor": 0,
  "metadata": {
    "kernelspec": {
      "display_name": "Python 3",
      "language": "python",
      "name": "python3"
    },
    "language_info": {
      "codemirror_mode": {
        "name": "ipython",
        "version": 3
      },
      "file_extension": ".py",
      "mimetype": "text/x-python",
      "name": "python",
      "nbconvert_exporter": "python",
      "pygments_lexer": "ipython3",
      "version": "3.6.4"
    },
    "colab": {
      "name": "Chapter 4.ipynb",
      "provenance": [],
      "collapsed_sections": [
        "GQZplNwGG01g"
      ]
    }
  },
  "cells": [
    {
      "cell_type": "markdown",
      "metadata": {
        "id": "bqU5hXYNG0vQ",
        "colab_type": "text"
      },
      "source": [
        "# Chapter 4 - Classification"
      ]
    },
    {
      "cell_type": "markdown",
      "metadata": {
        "id": "O9XRa4sZG0w0",
        "colab_type": "text"
      },
      "source": [
        "- [Load dataset](#Load-dataset)\n",
        "- [The Default data set](#Figure-4.1---Default-data-set)\n",
        "- [4.3 Logistic Regression](#4.3-Logistic-Regression)\n",
        "- [4.4 Linear Discriminant Analysis](#4.4-Linear-Discriminant-Analysis)\n",
        "- [Lab: 4.6.3 Linear Discriminant Analysis](#4.6.3-Linear-Discriminant-Analysis)\n",
        "- [Lab: 4.6.4 Quadratic Discriminant Analysis](#4.6.4-Quadratic-Discriminant-Analysis)\n",
        "- [Lab: 4.6.5 K-Nearest Neighbors](#4.6.5-K-Nearest-Neighbors)\n",
        "- [Lab: 4.6.6 An Application to Caravan Insurance Data](#4.6.6-An-Application-to-Caravan-Insurance-Data)"
      ]
    },
    {
      "cell_type": "code",
      "metadata": {
        "id": "osoBk7XrG0w0",
        "colab_type": "code",
        "colab": {}
      },
      "source": [
        "# %load ../standard_import.txt\n",
        "import pandas as pd\n",
        "import numpy as np\n",
        "import matplotlib as mpl\n",
        "import matplotlib.pyplot as plt\n",
        "import seaborn as sns\n",
        "\n",
        "import sklearn.linear_model as skl_lm\n",
        "from sklearn.discriminant_analysis import LinearDiscriminantAnalysis\n",
        "from sklearn.discriminant_analysis import QuadraticDiscriminantAnalysis\n",
        "from sklearn.metrics import confusion_matrix, classification_report, precision_score\n",
        "from sklearn import preprocessing\n",
        "from sklearn import neighbors\n",
        "\n",
        "import statsmodels.api as sm\n",
        "import statsmodels.formula.api as smf\n",
        "\n",
        "%matplotlib inline\n",
        "plt.style.use('seaborn-white')"
      ],
      "execution_count": 14,
      "outputs": []
    },
    {
      "cell_type": "markdown",
      "metadata": {
        "id": "sAakPnzyG0w0",
        "colab_type": "text"
      },
      "source": [
        "### Load dataset"
      ]
    },
    {
      "cell_type": "code",
      "metadata": {
        "id": "gKUBqjcsG0w0",
        "colab_type": "code",
        "colab": {
          "base_uri": "https://localhost:8080/",
          "height": 143
        },
        "outputId": "db9a6be9-5b7c-49a2-d627-a969479ad4d2"
      },
      "source": [
        "# In R, I exported the dataset from package 'ISLR' to an Excel file\n",
        "# df = pd.read_excel('Data/Default.xlsx')\n",
        "df = pd.read_excel('https://github.com/borisgarbuzov/schulich_data_science_1/blob/master/Data/Default.xlsx?raw=true')\n",
        "\n",
        "# Note: factorize() returns two objects: a label array and an array with the unique values.\n",
        "# We are only interested in the first object. \n",
        "df['default2'] = df.default.factorize()[0]\n",
        "df['student2'] = df.student.factorize()[0]\n",
        "df.head(3)"
      ],
      "execution_count": 15,
      "outputs": [
        {
          "output_type": "execute_result",
          "data": {
            "text/html": [
              "<div>\n",
              "<style scoped>\n",
              "    .dataframe tbody tr th:only-of-type {\n",
              "        vertical-align: middle;\n",
              "    }\n",
              "\n",
              "    .dataframe tbody tr th {\n",
              "        vertical-align: top;\n",
              "    }\n",
              "\n",
              "    .dataframe thead th {\n",
              "        text-align: right;\n",
              "    }\n",
              "</style>\n",
              "<table border=\"1\" class=\"dataframe\">\n",
              "  <thead>\n",
              "    <tr style=\"text-align: right;\">\n",
              "      <th></th>\n",
              "      <th>Unnamed: 0</th>\n",
              "      <th>default</th>\n",
              "      <th>student</th>\n",
              "      <th>balance</th>\n",
              "      <th>income</th>\n",
              "      <th>default2</th>\n",
              "      <th>student2</th>\n",
              "    </tr>\n",
              "  </thead>\n",
              "  <tbody>\n",
              "    <tr>\n",
              "      <th>0</th>\n",
              "      <td>1</td>\n",
              "      <td>No</td>\n",
              "      <td>No</td>\n",
              "      <td>729.526495</td>\n",
              "      <td>44361.625074</td>\n",
              "      <td>0</td>\n",
              "      <td>0</td>\n",
              "    </tr>\n",
              "    <tr>\n",
              "      <th>1</th>\n",
              "      <td>2</td>\n",
              "      <td>No</td>\n",
              "      <td>Yes</td>\n",
              "      <td>817.180407</td>\n",
              "      <td>12106.134700</td>\n",
              "      <td>0</td>\n",
              "      <td>1</td>\n",
              "    </tr>\n",
              "    <tr>\n",
              "      <th>2</th>\n",
              "      <td>3</td>\n",
              "      <td>No</td>\n",
              "      <td>No</td>\n",
              "      <td>1073.549164</td>\n",
              "      <td>31767.138947</td>\n",
              "      <td>0</td>\n",
              "      <td>0</td>\n",
              "    </tr>\n",
              "  </tbody>\n",
              "</table>\n",
              "</div>"
            ],
            "text/plain": [
              "   Unnamed: 0 default student      balance        income  default2  student2\n",
              "0           1      No      No   729.526495  44361.625074         0         0\n",
              "1           2      No     Yes   817.180407  12106.134700         0         1\n",
              "2           3      No      No  1073.549164  31767.138947         0         0"
            ]
          },
          "metadata": {
            "tags": []
          },
          "execution_count": 15
        }
      ]
    },
    {
      "cell_type": "markdown",
      "metadata": {
        "id": "pLYtt3eoG0w0",
        "colab_type": "text"
      },
      "source": [
        "###  Figure 4.1 - Default data set"
      ]
    },
    {
      "cell_type": "code",
      "metadata": {
        "id": "fPImrM_bG0w0",
        "colab_type": "code",
        "colab": {
          "base_uri": "https://localhost:8080/",
          "height": 369
        },
        "outputId": "b417bd16-6081-4a9c-8217-18dddd75da52"
      },
      "source": [
        "fig = plt.figure(figsize=(12,5))\n",
        "gs = mpl.gridspec.GridSpec(1, 4)\n",
        "ax1 = plt.subplot(gs[0,:-2])\n",
        "ax2 = plt.subplot(gs[0,-2])\n",
        "ax3 = plt.subplot(gs[0,-1])\n",
        "\n",
        "# Take a fraction of the samples where target value (default) is 'no'\n",
        "df_no = df[df.default2 == 0].sample(frac=0.15)\n",
        "# Take all samples  where target value is 'yes'\n",
        "df_yes = df[df.default2 == 1]\n",
        "df_ = df_no.append(df_yes)\n",
        "\n",
        "ax1.scatter(df_[df_.default == 'Yes'].balance, df_[df_.default == 'Yes'].income, s=40, c='orange', marker='+',\n",
        "            linewidths=1)\n",
        "ax1.scatter(df_[df_.default == 'No'].balance, df_[df_.default == 'No'].income, s=40, marker='o', linewidths='1',\n",
        "            edgecolors='lightblue', facecolors='white', alpha=.6)\n",
        "\n",
        "ax1.set_ylim(ymin=0)\n",
        "ax1.set_ylabel('Income')\n",
        "ax1.set_xlim(xmin=-100)\n",
        "ax1.set_xlabel('Balance')\n",
        "\n",
        "c_palette = {'No':'lightblue', 'Yes':'orange'}\n",
        "sns.boxplot('default', 'balance', data=df, orient='v', ax=ax2, palette=c_palette)\n",
        "sns.boxplot('default', 'income', data=df, orient='v', ax=ax3, palette=c_palette)\n",
        "gs.tight_layout(plt.gcf())"
      ],
      "execution_count": 16,
      "outputs": [
        {
          "output_type": "display_data",
          "data": {
            "image/png": "[encoded data removed]",
            "text/plain": [
              "<Figure size 864x360 with 3 Axes>"
            ]
          },
          "metadata": {
            "tags": []
          }
        }
      ]
    },
    {
      "cell_type": "markdown",
      "metadata": {
        "id": "ZBbZ2aYOG0w0",
        "colab_type": "text"
      },
      "source": [
        "## 4.3 Logistic Regression\n",
        "### Figure 4.2"
      ]
    },
    {
      "cell_type": "code",
      "metadata": {
        "id": "DhgIl256G0w0",
        "colab_type": "code",
        "colab": {
          "base_uri": "https://localhost:8080/",
          "height": 330
        },
        "outputId": "414a3aea-85c9-4cf4-8ea1-a180c2447f93"
      },
      "source": [
        "X_train = df.balance.values.reshape(-1,1) \n",
        "y = df.default2\n",
        "\n",
        "# Create array of test data. Calculate the classification probability\n",
        "# and predicted classification.\n",
        "X_test = np.arange(df.balance.min(), df.balance.max()).reshape(-1,1)\n",
        "\n",
        "clf = skl_lm.LogisticRegression(solver='newton-cg')\n",
        "clf.fit(X_train,y)\n",
        "prob = clf.predict_proba(X_test)\n",
        "\n",
        "fig, (ax1, ax2) = plt.subplots(1,2, figsize=(12,5))\n",
        "# Left plot\n",
        "sns.regplot(df.balance, df.default2, order=1, ci=None,\n",
        "            scatter_kws={'color':'orange'},\n",
        "            line_kws={'color':'lightblue', 'lw':2}, ax=ax1)\n",
        "# Right plot\n",
        "ax2.scatter(X_train, y, color='orange')\n",
        "ax2.plot(X_test, prob[:,1], color='lightblue')\n",
        "\n",
        "for ax in fig.axes:\n",
        "    ax.hlines(1, xmin=ax.xaxis.get_data_interval()[0],\n",
        "              xmax=ax.xaxis.get_data_interval()[1], linestyles='dashed', lw=1)\n",
        "    ax.hlines(0, xmin=ax.xaxis.get_data_interval()[0],\n",
        "              xmax=ax.xaxis.get_data_interval()[1], linestyles='dashed', lw=1)\n",
        "    ax.set_ylabel('Probability of default')\n",
        "    ax.set_xlabel('Balance')\n",
        "    ax.set_yticks([0, 0.25, 0.5, 0.75, 1.])\n",
        "    ax.set_xlim(xmin=-100)"
      ],
      "execution_count": 17,
      "outputs": [
        {
          "output_type": "display_data",
          "data": {
            "image/png": "[encoded data removed]",
            "text/plain": [
              "<Figure size 864x360 with 2 Axes>"
            ]
          },
          "metadata": {
            "tags": []
          }
        }
      ]
    },
    {
      "cell_type": "markdown",
      "metadata": {
        "id": "T8tN-bctG0yY",
        "colab_type": "text"
      },
      "source": [
        "### Table 4.1"
      ]
    },
    {
      "cell_type": "code",
      "metadata": {
        "id": "Da9e5WClG0yY",
        "colab_type": "code",
        "colab": {}
      },
      "source": [
        "y = df.default2"
      ],
      "execution_count": 20,
      "outputs": []
    },
    {
      "cell_type": "markdown",
      "metadata": {
        "id": "I5Z7MZl2G0yY",
        "colab_type": "text"
      },
      "source": [
        "#####  scikit-learn"
      ]
    },
    {
      "cell_type": "code",
      "metadata": {
        "id": "JnXrvNOLG0yY",
        "colab_type": "code",
        "colab": {
          "base_uri": "https://localhost:8080/",
          "height": 156
        },
        "outputId": "1a86a8ce-83ed-4766-df45-8575b8f6c752"
      },
      "source": [
        "# Using newton-cg solver, the coefficients are equal/closest to the ones in the book. \n",
        "# I do not know the details on the differences between the solvers.\n",
        "clf = skl_lm.LogisticRegression(solver='newton-cg')\n",
        "X_train = df.balance.values.reshape(-1,1)\n",
        "clf.fit(X_train,y)\n",
        "print(clf)\n",
        "print('classes: ',clf.classes_)\n",
        "print('coefficients: ',clf.coef_)\n",
        "print('intercept :', clf.intercept_)"
      ],
      "execution_count": 18,
      "outputs": [
        {
          "output_type": "stream",
          "text": [
            "LogisticRegression(C=1.0, class_weight=None, dual=False, fit_intercept=True,\n",
            "                   intercept_scaling=1, l1_ratio=None, max_iter=100,\n",
            "                   multi_class='auto', n_jobs=None, penalty='l2',\n",
            "                   random_state=None, solver='newton-cg', tol=0.0001, verbose=0,\n",
            "                   warm_start=False)\n",
            "classes:  [0 1]\n",
            "coefficients:  [[0.00549892]]\n",
            "intercept : [-10.65132784]\n"
          ],
          "name": "stdout"
        }
      ]
    },
    {
      "cell_type": "markdown",
      "metadata": {
        "id": "fC9i4GelG0yY",
        "colab_type": "text"
      },
      "source": [
        "##### statsmodels"
      ]
    },
    {
      "cell_type": "code",
      "metadata": {
        "id": "_B8ASGzHKSkI",
        "colab_type": "code",
        "colab": {}
      },
      "source": [
        "import statsmodels.api as sm\n",
        "import statsmodels.formula.api as smf"
      ],
      "execution_count": 9,
      "outputs": []
    },
    {
      "cell_type": "code",
      "metadata": {
        "id": "Ql0AcgqxG0yY",
        "colab_type": "code",
        "colab": {
          "base_uri": "https://localhost:8080/",
          "height": 486
        },
        "outputId": "75ef21cf-3401-452b-be30-a4376ce2f069"
      },
      "source": [
        "X_train = sm.add_constant(df.balance)\n",
        "# print(dir(smf))\n",
        "print(y)\n",
        "print(\"-----------------------\")\n",
        "print(X_train)\n",
        "\n",
        "# est = smf.logit(y.ravel(), X_train).fit()\n",
        "# est.summary2().tables[1]"
      ],
      "execution_count": 22,
      "outputs": [
        {
          "output_type": "stream",
          "text": [
            "0       0\n",
            "1       0\n",
            "2       0\n",
            "3       0\n",
            "4       0\n",
            "       ..\n",
            "9995    0\n",
            "9996    0\n",
            "9997    0\n",
            "9998    0\n",
            "9999    0\n",
            "Name: default2, Length: 10000, dtype: int64\n",
            "-----------------------\n",
            "      const      balance\n",
            "0       1.0   729.526495\n",
            "1       1.0   817.180407\n",
            "2       1.0  1073.549164\n",
            "3       1.0   529.250605\n",
            "4       1.0   785.655883\n",
            "...     ...          ...\n",
            "9995    1.0   711.555020\n",
            "9996    1.0   757.962918\n",
            "9997    1.0   845.411989\n",
            "9998    1.0  1569.009053\n",
            "9999    1.0   200.922183\n",
            "\n",
            "[10000 rows x 2 columns]\n"
          ],
          "name": "stdout"
        }
      ]
    },
    {
      "cell_type": "markdown",
      "metadata": {
        "id": "FUc3jIW9G0yY",
        "colab_type": "text"
      },
      "source": [
        "###  Table 4.2"
      ]
    },
    {
      "cell_type": "code",
      "metadata": {
        "id": "RswyJOBmG0yY",
        "colab_type": "code",
        "colab": {
          "base_uri": "https://localhost:8080/",
          "height": 703
        },
        "outputId": "32fb8d0f-e597-4f32-aabe-f1188064a785"
      },
      "source": [
        "X_train = sm.add_constant(df.student2)\n",
        "y = df.default2\n",
        "\n",
        "print(y)\n",
        "print(\"----------------\")\n",
        "print(X_train)\n",
        "\n",
        "print(y.value_counts(1))\n",
        "print(\"===================\")\n",
        "\n",
        "# est = smf.logit(y, X_train).fit()\n",
        "est = sm.Logit(y, X_train).fit()\n",
        "est.summary2().tables[1]"
      ],
      "execution_count": 27,
      "outputs": [
        {
          "output_type": "stream",
          "text": [
            "0       0\n",
            "1       0\n",
            "2       0\n",
            "3       0\n",
            "4       0\n",
            "       ..\n",
            "9995    0\n",
            "9996    0\n",
            "9997    0\n",
            "9998    0\n",
            "9999    0\n",
            "Name: default2, Length: 10000, dtype: int64\n",
            "----------------\n",
            "      const  student2\n",
            "0       1.0         0\n",
            "1       1.0         1\n",
            "2       1.0         0\n",
            "3       1.0         0\n",
            "4       1.0         0\n",
            "...     ...       ...\n",
            "9995    1.0         0\n",
            "9996    1.0         0\n",
            "9997    1.0         0\n",
            "9998    1.0         0\n",
            "9999    1.0         1\n",
            "\n",
            "[10000 rows x 2 columns]\n",
            "0    0.9667\n",
            "1    0.0333\n",
            "Name: default2, dtype: float64\n",
            "===================\n",
            "Optimization terminated successfully.\n",
            "         Current function value: 0.145434\n",
            "         Iterations 7\n"
          ],
          "name": "stdout"
        },
        {
          "output_type": "execute_result",
          "data": {
            "text/html": [
              "<div>\n",
              "<style scoped>\n",
              "    .dataframe tbody tr th:only-of-type {\n",
              "        vertical-align: middle;\n",
              "    }\n",
              "\n",
              "    .dataframe tbody tr th {\n",
              "        vertical-align: top;\n",
              "    }\n",
              "\n",
              "    .dataframe thead th {\n",
              "        text-align: right;\n",
              "    }\n",
              "</style>\n",
              "<table border=\"1\" class=\"dataframe\">\n",
              "  <thead>\n",
              "    <tr style=\"text-align: right;\">\n",
              "      <th></th>\n",
              "      <th>Coef.</th>\n",
              "      <th>Std.Err.</th>\n",
              "      <th>z</th>\n",
              "      <th>P&gt;|z|</th>\n",
              "      <th>[0.025</th>\n",
              "      <th>0.975]</th>\n",
              "    </tr>\n",
              "  </thead>\n",
              "  <tbody>\n",
              "    <tr>\n",
              "      <th>const</th>\n",
              "      <td>-3.504128</td>\n",
              "      <td>0.070713</td>\n",
              "      <td>-49.554094</td>\n",
              "      <td>0.000000</td>\n",
              "      <td>-3.642723</td>\n",
              "      <td>-3.365532</td>\n",
              "    </tr>\n",
              "    <tr>\n",
              "      <th>student2</th>\n",
              "      <td>0.404887</td>\n",
              "      <td>0.115019</td>\n",
              "      <td>3.520177</td>\n",
              "      <td>0.000431</td>\n",
              "      <td>0.179454</td>\n",
              "      <td>0.630320</td>\n",
              "    </tr>\n",
              "  </tbody>\n",
              "</table>\n",
              "</div>"
            ],
            "text/plain": [
              "             Coef.  Std.Err.          z     P>|z|    [0.025    0.975]\n",
              "const    -3.504128  0.070713 -49.554094  0.000000 -3.642723 -3.365532\n",
              "student2  0.404887  0.115019   3.520177  0.000431  0.179454  0.630320"
            ]
          },
          "metadata": {
            "tags": []
          },
          "execution_count": 27
        }
      ]
    },
    {
      "cell_type": "markdown",
      "metadata": {
        "id": "wH5nWrbAG0yY",
        "colab_type": "text"
      },
      "source": [
        "###  Table 4.3 - Multiple Logistic Regression"
      ]
    },
    {
      "cell_type": "code",
      "metadata": {
        "id": "h0-DtxmCG0yY",
        "colab_type": "code",
        "colab": {
          "base_uri": "https://localhost:8080/",
          "height": 227
        },
        "outputId": "58817b95-23e9-45f9-922a-8814f147d7dd"
      },
      "source": [
        "X_train = sm.add_constant(df[['balance', 'income', 'student2']])\n",
        "est = sm.Logit(y, X_train).fit()\n",
        "# est = smf.logit(y, X_train).fit()\n",
        "est.summary2().tables[1]"
      ],
      "execution_count": 28,
      "outputs": [
        {
          "output_type": "stream",
          "text": [
            "Optimization terminated successfully.\n",
            "         Current function value: 0.078577\n",
            "         Iterations 10\n"
          ],
          "name": "stdout"
        },
        {
          "output_type": "execute_result",
          "data": {
            "text/html": [
              "<div>\n",
              "<style scoped>\n",
              "    .dataframe tbody tr th:only-of-type {\n",
              "        vertical-align: middle;\n",
              "    }\n",
              "\n",
              "    .dataframe tbody tr th {\n",
              "        vertical-align: top;\n",
              "    }\n",
              "\n",
              "    .dataframe thead th {\n",
              "        text-align: right;\n",
              "    }\n",
              "</style>\n",
              "<table border=\"1\" class=\"dataframe\">\n",
              "  <thead>\n",
              "    <tr style=\"text-align: right;\">\n",
              "      <th></th>\n",
              "      <th>Coef.</th>\n",
              "      <th>Std.Err.</th>\n",
              "      <th>z</th>\n",
              "      <th>P&gt;|z|</th>\n",
              "      <th>[0.025</th>\n",
              "      <th>0.975]</th>\n",
              "    </tr>\n",
              "  </thead>\n",
              "  <tbody>\n",
              "    <tr>\n",
              "      <th>const</th>\n",
              "      <td>-10.869045</td>\n",
              "      <td>0.492273</td>\n",
              "      <td>-22.079320</td>\n",
              "      <td>4.995499e-108</td>\n",
              "      <td>-11.833882</td>\n",
              "      <td>-9.904209</td>\n",
              "    </tr>\n",
              "    <tr>\n",
              "      <th>balance</th>\n",
              "      <td>0.005737</td>\n",
              "      <td>0.000232</td>\n",
              "      <td>24.736506</td>\n",
              "      <td>4.331521e-135</td>\n",
              "      <td>0.005282</td>\n",
              "      <td>0.006191</td>\n",
              "    </tr>\n",
              "    <tr>\n",
              "      <th>income</th>\n",
              "      <td>0.000003</td>\n",
              "      <td>0.000008</td>\n",
              "      <td>0.369808</td>\n",
              "      <td>7.115254e-01</td>\n",
              "      <td>-0.000013</td>\n",
              "      <td>0.000019</td>\n",
              "    </tr>\n",
              "    <tr>\n",
              "      <th>student2</th>\n",
              "      <td>-0.646776</td>\n",
              "      <td>0.236257</td>\n",
              "      <td>-2.737595</td>\n",
              "      <td>6.189022e-03</td>\n",
              "      <td>-1.109831</td>\n",
              "      <td>-0.183721</td>\n",
              "    </tr>\n",
              "  </tbody>\n",
              "</table>\n",
              "</div>"
            ],
            "text/plain": [
              "              Coef.  Std.Err.          z          P>|z|     [0.025    0.975]\n",
              "const    -10.869045  0.492273 -22.079320  4.995499e-108 -11.833882 -9.904209\n",
              "balance    0.005737  0.000232  24.736506  4.331521e-135   0.005282  0.006191\n",
              "income     0.000003  0.000008   0.369808   7.115254e-01  -0.000013  0.000019\n",
              "student2  -0.646776  0.236257  -2.737595   6.189022e-03  -1.109831 -0.183721"
            ]
          },
          "metadata": {
            "tags": []
          },
          "execution_count": 28
        }
      ]
    },
    {
      "cell_type": "markdown",
      "metadata": {
        "id": "cwVk5DfpG0yY",
        "colab_type": "text"
      },
      "source": [
        "### Figure 4.3 - Confounding"
      ]
    },
    {
      "cell_type": "code",
      "metadata": {
        "id": "IPh5OhOQG0yY",
        "colab_type": "code",
        "colab": {}
      },
      "source": [
        "# balance and default vectors for students\n",
        "X_train = df[df.student == 'Yes'].balance.values.reshape(df[df.student == 'Yes'].balance.size,1) \n",
        "y = df[df.student == 'Yes'].default2\n",
        "\n",
        "# balance and default vectors for non-students\n",
        "X_train2 = df[df.student == 'No'].balance.values.reshape(df[df.student == 'No'].balance.size,1) \n",
        "y2 = df[df.student == 'No'].default2\n",
        "\n",
        "# Vector with balance values for plotting\n",
        "X_test = np.arange(df.balance.min(), df.balance.max()).reshape(-1,1)\n",
        "\n",
        "clf = skl_lm.LogisticRegression(solver='newton-cg')\n",
        "clf2 = skl_lm.LogisticRegression(solver='newton-cg')\n",
        "\n",
        "clf.fit(X_train,y)\n",
        "clf2.fit(X_train2,y2)\n",
        "\n",
        "prob = clf.predict_proba(X_test)\n",
        "prob2 = clf2.predict_proba(X_test)"
      ],
      "execution_count": 29,
      "outputs": []
    },
    {
      "cell_type": "code",
      "metadata": {
        "id": "TyDw0iRTG0yY",
        "colab_type": "code",
        "colab": {
          "base_uri": "https://localhost:8080/",
          "height": 143
        },
        "outputId": "2ecbbe89-ce27-4c6e-ca52-4aa18c231008"
      },
      "source": [
        "df.groupby(['student','default']).size().unstack('default')"
      ],
      "execution_count": 30,
      "outputs": [
        {
          "output_type": "execute_result",
          "data": {
            "text/html": [
              "<div>\n",
              "<style scoped>\n",
              "    .dataframe tbody tr th:only-of-type {\n",
              "        vertical-align: middle;\n",
              "    }\n",
              "\n",
              "    .dataframe tbody tr th {\n",
              "        vertical-align: top;\n",
              "    }\n",
              "\n",
              "    .dataframe thead th {\n",
              "        text-align: right;\n",
              "    }\n",
              "</style>\n",
              "<table border=\"1\" class=\"dataframe\">\n",
              "  <thead>\n",
              "    <tr style=\"text-align: right;\">\n",
              "      <th>default</th>\n",
              "      <th>No</th>\n",
              "      <th>Yes</th>\n",
              "    </tr>\n",
              "    <tr>\n",
              "      <th>student</th>\n",
              "      <th></th>\n",
              "      <th></th>\n",
              "    </tr>\n",
              "  </thead>\n",
              "  <tbody>\n",
              "    <tr>\n",
              "      <th>No</th>\n",
              "      <td>6850</td>\n",
              "      <td>206</td>\n",
              "    </tr>\n",
              "    <tr>\n",
              "      <th>Yes</th>\n",
              "      <td>2817</td>\n",
              "      <td>127</td>\n",
              "    </tr>\n",
              "  </tbody>\n",
              "</table>\n",
              "</div>"
            ],
            "text/plain": [
              "default    No  Yes\n",
              "student           \n",
              "No       6850  206\n",
              "Yes      2817  127"
            ]
          },
          "metadata": {
            "tags": []
          },
          "execution_count": 30
        }
      ]
    },
    {
      "cell_type": "code",
      "metadata": {
        "id": "3GRz64p4G0yY",
        "colab_type": "code",
        "colab": {
          "base_uri": "https://localhost:8080/",
          "height": 330
        },
        "outputId": "39179fae-eed2-4e2a-80a5-c2540338879c"
      },
      "source": [
        "# creating plot\n",
        "fig, (ax1, ax2) = plt.subplots(1,2, figsize=(12,5))\n",
        "\n",
        "# Left plot\n",
        "ax1.plot(X_test, pd.DataFrame(prob)[1], color='orange', label='Student')\n",
        "ax1.plot(X_test, pd.DataFrame(prob2)[1], color='lightblue', label='Non-student')\n",
        "ax1.hlines(127/2817, colors='orange', label='Overall Student',\n",
        "           xmin=ax1.xaxis.get_data_interval()[0],\n",
        "           xmax=ax1.xaxis.get_data_interval()[1], linestyles='dashed')\n",
        "ax1.hlines(206/6850, colors='lightblue', label='Overall Non-Student',\n",
        "           xmin=ax1.xaxis.get_data_interval()[0],\n",
        "           xmax=ax1.xaxis.get_data_interval()[1], linestyles='dashed')\n",
        "ax1.set_ylabel('Default Rate')\n",
        "ax1.set_xlabel('Credit Card Balance')\n",
        "ax1.set_yticks([0, 0.2, 0.4, 0.6, 0.8, 1.])\n",
        "ax1.set_xlim(450,2500)\n",
        "ax1.legend(loc=2)\n",
        "\n",
        "# Right plot\n",
        "sns.boxplot('student', 'balance', data=df, orient='v', ax=ax2,  palette=c_palette);"
      ],
      "execution_count": 31,
      "outputs": [
        {
          "output_type": "display_data",
          "data": {
            "image/png": "[encoded data removed]",
            "text/plain": [
              "<Figure size 864x360 with 2 Axes>"
            ]
          },
          "metadata": {
            "tags": []
          }
        }
      ]
    },
    {
      "cell_type": "markdown",
      "metadata": {
        "id": "RqzwQIftG0yY",
        "colab_type": "text"
      },
      "source": [
        "## 4.4 Linear Discriminant Analysis\n",
        "### Table 4.4 \n"
      ]
    },
    {
      "cell_type": "code",
      "metadata": {
        "id": "6lMU10CEG0yY",
        "colab_type": "code",
        "colab": {
          "base_uri": "https://localhost:8080/",
          "height": 143
        },
        "outputId": "1e353b8a-e74c-4096-f16c-83d0fab63e88"
      },
      "source": [
        "# X = df[['balance', 'income', 'student2']].as_matrix()\n",
        "X = df[['balance', 'income', 'student2']].to_numpy()\n",
        "\n",
        "\n",
        "y = df.default2.to_numpy()\n",
        "\n",
        "lda = LinearDiscriminantAnalysis(solver='svd')\n",
        "y_pred = lda.fit(X, y).predict(X)\n",
        "\n",
        "df_ = pd.DataFrame({'True default status': y,\n",
        "                    'Predicted default status': y_pred})\n",
        "df_.replace(to_replace={0:'No', 1:'Yes'}, inplace=True)\n",
        "\n",
        "df_.groupby(['Predicted default status','True default status']).size().unstack('True default status')"
      ],
      "execution_count": 32,
      "outputs": [
        {
          "output_type": "execute_result",
          "data": {
            "text/html": [
              "<div>\n",
              "<style scoped>\n",
              "    .dataframe tbody tr th:only-of-type {\n",
              "        vertical-align: middle;\n",
              "    }\n",
              "\n",
              "    .dataframe tbody tr th {\n",
              "        vertical-align: top;\n",
              "    }\n",
              "\n",
              "    .dataframe thead th {\n",
              "        text-align: right;\n",
              "    }\n",
              "</style>\n",
              "<table border=\"1\" class=\"dataframe\">\n",
              "  <thead>\n",
              "    <tr style=\"text-align: right;\">\n",
              "      <th>True default status</th>\n",
              "      <th>No</th>\n",
              "      <th>Yes</th>\n",
              "    </tr>\n",
              "    <tr>\n",
              "      <th>Predicted default status</th>\n",
              "      <th></th>\n",
              "      <th></th>\n",
              "    </tr>\n",
              "  </thead>\n",
              "  <tbody>\n",
              "    <tr>\n",
              "      <th>No</th>\n",
              "      <td>9645</td>\n",
              "      <td>254</td>\n",
              "    </tr>\n",
              "    <tr>\n",
              "      <th>Yes</th>\n",
              "      <td>22</td>\n",
              "      <td>79</td>\n",
              "    </tr>\n",
              "  </tbody>\n",
              "</table>\n",
              "</div>"
            ],
            "text/plain": [
              "True default status         No  Yes\n",
              "Predicted default status           \n",
              "No                        9645  254\n",
              "Yes                         22   79"
            ]
          },
          "metadata": {
            "tags": []
          },
          "execution_count": 32
        }
      ]
    },
    {
      "cell_type": "code",
      "metadata": {
        "id": "1XNOgazjG0z8",
        "colab_type": "code",
        "colab": {
          "base_uri": "https://localhost:8080/",
          "height": 173
        },
        "outputId": "a061a3fe-c2f6-4c35-bcf0-ec7a3d72396e"
      },
      "source": [
        "print(classification_report(y, y_pred, target_names=['No', 'Yes']))"
      ],
      "execution_count": 33,
      "outputs": [
        {
          "output_type": "stream",
          "text": [
            "              precision    recall  f1-score   support\n",
            "\n",
            "          No       0.97      1.00      0.99      9667\n",
            "         Yes       0.78      0.24      0.36       333\n",
            "\n",
            "    accuracy                           0.97     10000\n",
            "   macro avg       0.88      0.62      0.67     10000\n",
            "weighted avg       0.97      0.97      0.97     10000\n",
            "\n"
          ],
          "name": "stdout"
        }
      ]
    },
    {
      "cell_type": "markdown",
      "metadata": {
        "id": "s3eYpmrrG0z8",
        "colab_type": "text"
      },
      "source": [
        "### Table 4.5\n",
        "Instead of using the probability of 50% as decision boundary, we say that a probability of default of 20% is to be classified as 'Yes'."
      ]
    },
    {
      "cell_type": "code",
      "metadata": {
        "id": "CUbbRAy5G0z8",
        "colab_type": "code",
        "colab": {
          "base_uri": "https://localhost:8080/",
          "height": 143
        },
        "outputId": "bd622764-31dc-494b-db14-989807e4aac2"
      },
      "source": [
        "decision_prob = 0.2\n",
        "y_prob = lda.fit(X, y).predict_proba(X)\n",
        "\n",
        "df_ = pd.DataFrame({'True default status': y,\n",
        "                    'Predicted default status': y_prob[:,1] > decision_prob})\n",
        "df_.replace(to_replace={0:'No', 1:'Yes', 'True':'Yes', 'False':'No'}, inplace=True)\n",
        "\n",
        "df_.groupby(['Predicted default status','True default status']).size().unstack('True default status')"
      ],
      "execution_count": 34,
      "outputs": [
        {
          "output_type": "execute_result",
          "data": {
            "text/html": [
              "<div>\n",
              "<style scoped>\n",
              "    .dataframe tbody tr th:only-of-type {\n",
              "        vertical-align: middle;\n",
              "    }\n",
              "\n",
              "    .dataframe tbody tr th {\n",
              "        vertical-align: top;\n",
              "    }\n",
              "\n",
              "    .dataframe thead th {\n",
              "        text-align: right;\n",
              "    }\n",
              "</style>\n",
              "<table border=\"1\" class=\"dataframe\">\n",
              "  <thead>\n",
              "    <tr style=\"text-align: right;\">\n",
              "      <th>True default status</th>\n",
              "      <th>No</th>\n",
              "      <th>Yes</th>\n",
              "    </tr>\n",
              "    <tr>\n",
              "      <th>Predicted default status</th>\n",
              "      <th></th>\n",
              "      <th></th>\n",
              "    </tr>\n",
              "  </thead>\n",
              "  <tbody>\n",
              "    <tr>\n",
              "      <th>No</th>\n",
              "      <td>9435</td>\n",
              "      <td>140</td>\n",
              "    </tr>\n",
              "    <tr>\n",
              "      <th>Yes</th>\n",
              "      <td>232</td>\n",
              "      <td>193</td>\n",
              "    </tr>\n",
              "  </tbody>\n",
              "</table>\n",
              "</div>"
            ],
            "text/plain": [
              "True default status         No  Yes\n",
              "Predicted default status           \n",
              "No                        9435  140\n",
              "Yes                        232  193"
            ]
          },
          "metadata": {
            "tags": []
          },
          "execution_count": 34
        }
      ]
    },
    {
      "cell_type": "markdown",
      "metadata": {
        "id": "jnBsfyZfG0z8",
        "colab_type": "text"
      },
      "source": [
        "#  Lab"
      ]
    },
    {
      "cell_type": "markdown",
      "metadata": {
        "id": "PZv-wwm3G0z8",
        "colab_type": "text"
      },
      "source": [
        "### 4.6.3 Linear Discriminant Analysis"
      ]
    },
    {
      "cell_type": "code",
      "metadata": {
        "id": "Psfudh2JG0z8",
        "colab_type": "code",
        "colab": {}
      },
      "source": [
        "# df = pd.read_csv('Data/Smarket.csv', usecols=range(1,10), index_col=0, parse_dates=True)\n",
        "df = pd.read_csv('https://raw.githubusercontent.com/borisgarbuzov/schulich_data_science_1/master/Data/Smarket.csv', usecols=range(1,10), index_col=0, parse_dates=True)"
      ],
      "execution_count": 35,
      "outputs": []
    },
    {
      "cell_type": "code",
      "metadata": {
        "id": "KK_WoXrHG0z8",
        "colab_type": "code",
        "colab": {}
      },
      "source": [
        "X_train = df[:'2004'][['Lag1','Lag2']]\n",
        "y_train = df[:'2004']['Direction']\n",
        "\n",
        "X_test = df['2005':][['Lag1','Lag2']]\n",
        "y_test = df['2005':]['Direction']\n",
        "\n",
        "lda = LinearDiscriminantAnalysis()\n",
        "pred = lda.fit(X_train, y_train).predict(X_test)"
      ],
      "execution_count": null,
      "outputs": []
    },
    {
      "cell_type": "code",
      "metadata": {
        "id": "rVFt3TeBG0z8",
        "colab_type": "code",
        "colab": {
          "base_uri": "https://localhost:8080/",
          "height": 34
        },
        "outputId": "3745fda8-b2dc-41b9-8eb2-24e5d0951e23"
      },
      "source": [
        "lda.priors_"
      ],
      "execution_count": null,
      "outputs": [
        {
          "output_type": "execute_result",
          "data": {
            "text/plain": [
              "array([0.49198397, 0.50801603])"
            ]
          },
          "metadata": {
            "tags": []
          },
          "execution_count": 42
        }
      ]
    },
    {
      "cell_type": "code",
      "metadata": {
        "id": "HIyNeHmQG0z8",
        "colab_type": "code",
        "colab": {
          "base_uri": "https://localhost:8080/",
          "height": 52
        },
        "outputId": "8f61cee0-a870-43fa-d606-d1524333197b"
      },
      "source": [
        "lda.means_"
      ],
      "execution_count": null,
      "outputs": [
        {
          "output_type": "execute_result",
          "data": {
            "text/plain": [
              "array([[ 0.04279022,  0.03389409],\n",
              "       [-0.03954635, -0.03132544]])"
            ]
          },
          "metadata": {
            "tags": []
          },
          "execution_count": 43
        }
      ]
    },
    {
      "cell_type": "code",
      "metadata": {
        "id": "mbxdU6OhG0z8",
        "colab_type": "code",
        "colab": {
          "base_uri": "https://localhost:8080/",
          "height": 34
        },
        "outputId": "019e334f-234e-4ec4-a2fc-11a1f44ce857"
      },
      "source": [
        "# These do not seem to correspond to the values from the R output in the book?\n",
        "lda.coef_"
      ],
      "execution_count": null,
      "outputs": [
        {
          "output_type": "execute_result",
          "data": {
            "text/plain": [
              "array([[-0.05544078, -0.0443452 ]])"
            ]
          },
          "metadata": {
            "tags": []
          },
          "execution_count": 44
        }
      ]
    },
    {
      "cell_type": "code",
      "metadata": {
        "id": "TPsbfq9uG0z8",
        "colab_type": "code",
        "colab": {
          "base_uri": "https://localhost:8080/",
          "height": 52
        },
        "outputId": "9d2e3e71-7280-444b-973b-9a5e569ce2cd"
      },
      "source": [
        "confusion_matrix(y_test, pred).T"
      ],
      "execution_count": null,
      "outputs": [
        {
          "output_type": "execute_result",
          "data": {
            "text/plain": [
              "array([[ 35,  35],\n",
              "       [ 76, 106]])"
            ]
          },
          "metadata": {
            "tags": []
          },
          "execution_count": 45
        }
      ]
    },
    {
      "cell_type": "code",
      "metadata": {
        "id": "B4UCE8lNG0z8",
        "colab_type": "code",
        "colab": {
          "base_uri": "https://localhost:8080/",
          "height": 173
        },
        "outputId": "260d6712-834b-47b9-ab88-ba51da0ca44d"
      },
      "source": [
        "print(classification_report(y_test, pred, digits=3))"
      ],
      "execution_count": null,
      "outputs": [
        {
          "output_type": "stream",
          "text": [
            "              precision    recall  f1-score   support\n",
            "\n",
            "        Down      0.500     0.315     0.387       111\n",
            "          Up      0.582     0.752     0.656       141\n",
            "\n",
            "    accuracy                          0.560       252\n",
            "   macro avg      0.541     0.534     0.522       252\n",
            "weighted avg      0.546     0.560     0.538       252\n",
            "\n"
          ],
          "name": "stdout"
        }
      ]
    },
    {
      "cell_type": "code",
      "metadata": {
        "id": "OdXCLvdWG0z8",
        "colab_type": "code",
        "colab": {}
      },
      "source": [
        "pred_p = lda.predict_proba(X_test)"
      ],
      "execution_count": null,
      "outputs": []
    },
    {
      "cell_type": "code",
      "metadata": {
        "id": "HaMM2IpUG0z8",
        "colab_type": "code",
        "colab": {
          "base_uri": "https://localhost:8080/",
          "height": 34
        },
        "outputId": "57e0238a-bd37-4649-8068-7bd237141d29"
      },
      "source": [
        "np.unique(pred_p[:,1]>0.5, return_counts=True)"
      ],
      "execution_count": null,
      "outputs": [
        {
          "output_type": "execute_result",
          "data": {
            "text/plain": [
              "(array([False,  True]), array([ 70, 182]))"
            ]
          },
          "metadata": {
            "tags": []
          },
          "execution_count": 48
        }
      ]
    },
    {
      "cell_type": "code",
      "metadata": {
        "id": "FYIAz9J3G0z8",
        "colab_type": "code",
        "colab": {
          "base_uri": "https://localhost:8080/",
          "height": 34
        },
        "outputId": "72a9368d-a58f-4af0-fbe2-88208aa0d099"
      },
      "source": [
        "np.unique(pred_p[:,1]>0.9, return_counts=True)"
      ],
      "execution_count": null,
      "outputs": [
        {
          "output_type": "execute_result",
          "data": {
            "text/plain": [
              "(array([False]), array([252]))"
            ]
          },
          "metadata": {
            "tags": []
          },
          "execution_count": 49
        }
      ]
    },
    {
      "cell_type": "markdown",
      "metadata": {
        "id": "mjpNKlA4G0z8",
        "colab_type": "text"
      },
      "source": [
        "### 4.6.4 Quadratic Discriminant Analysis"
      ]
    },
    {
      "cell_type": "code",
      "metadata": {
        "id": "ZWlfk51jG0z8",
        "colab_type": "code",
        "colab": {}
      },
      "source": [
        "qda = QuadraticDiscriminantAnalysis()\n",
        "pred = qda.fit(X_train, y_train).predict(X_test)"
      ],
      "execution_count": null,
      "outputs": []
    },
    {
      "cell_type": "code",
      "metadata": {
        "id": "UEg6_lu2G0z8",
        "colab_type": "code",
        "colab": {
          "base_uri": "https://localhost:8080/",
          "height": 34
        },
        "outputId": "478cb530-1a5d-4599-ba9c-b40a7ea03862"
      },
      "source": [
        "qda.priors_"
      ],
      "execution_count": null,
      "outputs": [
        {
          "output_type": "execute_result",
          "data": {
            "text/plain": [
              "array([0.49198397, 0.50801603])"
            ]
          },
          "metadata": {
            "tags": []
          },
          "execution_count": 51
        }
      ]
    },
    {
      "cell_type": "code",
      "metadata": {
        "id": "VibFzoRNG0z8",
        "colab_type": "code",
        "colab": {
          "base_uri": "https://localhost:8080/",
          "height": 52
        },
        "outputId": "b1af992b-d6c7-434b-9e50-19680c7b77a2"
      },
      "source": [
        "qda.means_"
      ],
      "execution_count": null,
      "outputs": [
        {
          "output_type": "execute_result",
          "data": {
            "text/plain": [
              "array([[ 0.04279022,  0.03389409],\n",
              "       [-0.03954635, -0.03132544]])"
            ]
          },
          "metadata": {
            "tags": []
          },
          "execution_count": 52
        }
      ]
    },
    {
      "cell_type": "code",
      "metadata": {
        "id": "-v3Hs3xDG0z8",
        "colab_type": "code",
        "colab": {
          "base_uri": "https://localhost:8080/",
          "height": 52
        },
        "outputId": "2945c298-7eae-4f8b-83bc-b94e16e256d6"
      },
      "source": [
        "confusion_matrix(y_test, pred).T"
      ],
      "execution_count": null,
      "outputs": [
        {
          "output_type": "execute_result",
          "data": {
            "text/plain": [
              "array([[ 30,  20],\n",
              "       [ 81, 121]])"
            ]
          },
          "metadata": {
            "tags": []
          },
          "execution_count": 53
        }
      ]
    },
    {
      "cell_type": "code",
      "metadata": {
        "id": "ZMR6ajjhG0z8",
        "colab_type": "code",
        "colab": {
          "base_uri": "https://localhost:8080/",
          "height": 173
        },
        "outputId": "4485bd7f-5719-4a64-fa05-a135069ca452"
      },
      "source": [
        "print(classification_report(y_test, pred, digits=3))"
      ],
      "execution_count": null,
      "outputs": [
        {
          "output_type": "stream",
          "text": [
            "              precision    recall  f1-score   support\n",
            "\n",
            "        Down      0.600     0.270     0.373       111\n",
            "          Up      0.599     0.858     0.706       141\n",
            "\n",
            "    accuracy                          0.599       252\n",
            "   macro avg      0.600     0.564     0.539       252\n",
            "weighted avg      0.599     0.599     0.559       252\n",
            "\n"
          ],
          "name": "stdout"
        }
      ]
    },
    {
      "cell_type": "markdown",
      "metadata": {
        "id": "ml6I_Q_uG0z8",
        "colab_type": "text"
      },
      "source": [
        "### 4.6.5 K-Nearest Neighbors"
      ]
    },
    {
      "cell_type": "code",
      "metadata": {
        "id": "HIJqYYQyG0z8",
        "colab_type": "code",
        "colab": {
          "base_uri": "https://localhost:8080/",
          "height": 208
        },
        "outputId": "b11f0a60-87a6-4fde-ceb7-850d7dd9b2a7"
      },
      "source": [
        "knn = neighbors.KNeighborsClassifier(n_neighbors=1)\n",
        "pred = knn.fit(X_train, y_train).predict(X_test)\n",
        "print(confusion_matrix(y_test, pred).T)\n",
        "print(classification_report(y_test, pred, digits=3))"
      ],
      "execution_count": null,
      "outputs": [
        {
          "output_type": "stream",
          "text": [
            "[[43 58]\n",
            " [68 83]]\n",
            "              precision    recall  f1-score   support\n",
            "\n",
            "        Down      0.426     0.387     0.406       111\n",
            "          Up      0.550     0.589     0.568       141\n",
            "\n",
            "    accuracy                          0.500       252\n",
            "   macro avg      0.488     0.488     0.487       252\n",
            "weighted avg      0.495     0.500     0.497       252\n",
            "\n"
          ],
          "name": "stdout"
        }
      ]
    },
    {
      "cell_type": "code",
      "metadata": {
        "id": "Z158eK0mG01g",
        "colab_type": "code",
        "colab": {
          "base_uri": "https://localhost:8080/",
          "height": 208
        },
        "outputId": "c50f77c1-27ab-4527-cd21-d018bb231b9c"
      },
      "source": [
        "knn = neighbors.KNeighborsClassifier(n_neighbors=3)\n",
        "pred = knn.fit(X_train, y_train).predict(X_test)\n",
        "print(confusion_matrix(y_test, pred).T)\n",
        "print(classification_report(y_test, pred, digits=3))"
      ],
      "execution_count": null,
      "outputs": [
        {
          "output_type": "stream",
          "text": [
            "[[48 55]\n",
            " [63 86]]\n",
            "              precision    recall  f1-score   support\n",
            "\n",
            "        Down      0.466     0.432     0.449       111\n",
            "          Up      0.577     0.610     0.593       141\n",
            "\n",
            "    accuracy                          0.532       252\n",
            "   macro avg      0.522     0.521     0.521       252\n",
            "weighted avg      0.528     0.532     0.529       252\n",
            "\n"
          ],
          "name": "stdout"
        }
      ]
    },
    {
      "cell_type": "markdown",
      "metadata": {
        "id": "YRuFyT_nG01g",
        "colab_type": "text"
      },
      "source": [
        "### 4.6.6 An Application to Caravan Insurance Data\n",
        "\n",
        "#### K-Nearest Neighbors"
      ]
    },
    {
      "cell_type": "code",
      "metadata": {
        "id": "WFbz-ZBRG01g",
        "colab_type": "code",
        "colab": {}
      },
      "source": [
        "# In R, I exported the dataset from package 'ISLR' to a csv file\n",
        "# df = pd.read_csv('Data/Caravan.csv')\n",
        "df = pd.read_csv('https://raw.githubusercontent.com/borisgarbuzov/schulich_data_science_1/master/Data/Caravan.csv')\n",
        "y = df.Purchase\n",
        "X = df.drop('Purchase', axis=1).astype('float64')\n",
        "X_scaled = preprocessing.scale(X)\n",
        "\n",
        "X_train = X_scaled[1000:,:]\n",
        "y_train = y[1000:]\n",
        "X_test = X_scaled[:1000,:]\n",
        "y_test = y[:1000]\n",
        "\n",
        "def KNN(n_neighbors=1, weights='uniform'):\n",
        "    clf = neighbors.KNeighborsClassifier(n_neighbors, weights)\n",
        "    clf.fit(X_train, y_train)\n",
        "    pred = clf.predict(X_test)\n",
        "    score = clf.score(X_test, y_test)\n",
        "    return(pred, score, clf.classes_)\n",
        "\n",
        "def plot_confusion_matrix(cm, classes, n_neighbors, title='Confusion matrix (Normalized)',\n",
        "                          cmap=plt.cm.Blues):\n",
        "    plt.imshow(cm, interpolation='nearest', cmap=plt.cm.Blues)\n",
        "    plt.title('Normalized confusion matrix: KNN-{}'.format(n_neighbors))\n",
        "    plt.colorbar()\n",
        "    plt.xticks(np.arange(2), classes)\n",
        "    plt.yticks(np.arange(2), classes)\n",
        "    plt.tight_layout()\n",
        "    plt.xlabel('True label',rotation='horizontal', ha='right')\n",
        "    plt.ylabel('Predicted label')\n",
        "    plt.show()"
      ],
      "execution_count": null,
      "outputs": []
    },
    {
      "cell_type": "code",
      "metadata": {
        "id": "o0LsO2zfG01g",
        "colab_type": "code",
        "colab": {
          "base_uri": "https://localhost:8080/",
          "height": 1000
        },
        "outputId": "3ef3640d-ee6c-43e7-d3c5-a4a6202a85c7"
      },
      "source": [
        "for i in [1,3,5]:\n",
        "    pred, score, classes = KNN(i)\n",
        "    cm = confusion_matrix(y_test, pred)\n",
        "    cm_normalized = cm.astype('float') / cm.sum(axis=1)[:, np.newaxis]\n",
        "    plot_confusion_matrix(cm_normalized.T, classes, n_neighbors=i)\n",
        "    cm_df = pd.DataFrame(cm.T, index=classes, columns=classes)\n",
        "    cm_df.index.name = 'Predicted'\n",
        "    cm_df.columns.name = 'True'\n",
        "    print(cm_df)    \n",
        "    print(pd.DataFrame(precision_score(y_test, pred, average=None),\n",
        "                       index=classes, columns=['Precision']))        "
      ],
      "execution_count": null,
      "outputs": [
        {
          "output_type": "display_data",
          "data": {
            "image/png": "[encoded data removed]",
            "text/plain": [
              "<Figure size 432x288 with 2 Axes>"
            ]
          },
          "metadata": {
            "tags": []
          }
        },
        {
          "output_type": "stream",
          "text": [
            "True        No  Yes\n",
            "Predicted          \n",
            "No         882   48\n",
            "Yes         59   11\n",
            "     Precision\n",
            "No    0.948387\n",
            "Yes   0.157143\n"
          ],
          "name": "stdout"
        },
        {
          "output_type": "display_data",
          "data": {
            "image/png": "[encoded data removed]",
            "text/plain": [
              "<Figure size 432x288 with 2 Axes>"
            ]
          },
          "metadata": {
            "tags": []
          }
        },
        {
          "output_type": "stream",
          "text": [
            "True        No  Yes\n",
            "Predicted          \n",
            "No         921   53\n",
            "Yes         20    6\n",
            "     Precision\n",
            "No    0.945585\n",
            "Yes   0.230769\n"
          ],
          "name": "stdout"
        },
        {
          "output_type": "display_data",
          "data": {
            "image/png": "[encoded data removed]",
            "text/plain": [
              "<Figure size 432x288 with 2 Axes>"
            ]
          },
          "metadata": {
            "tags": []
          }
        },
        {
          "output_type": "stream",
          "text": [
            "True        No  Yes\n",
            "Predicted          \n",
            "No         934   55\n",
            "Yes          7    4\n",
            "     Precision\n",
            "No    0.944388\n",
            "Yes   0.363636\n"
          ],
          "name": "stdout"
        }
      ]
    },
    {
      "cell_type": "markdown",
      "metadata": {
        "id": "GQZplNwGG01g",
        "colab_type": "text"
      },
      "source": [
        "####  Logistic Regression"
      ]
    },
    {
      "cell_type": "code",
      "metadata": {
        "id": "9OFPa5EiG01g",
        "colab_type": "code",
        "colab": {
          "base_uri": "https://localhost:8080/",
          "height": 243
        },
        "outputId": "78907604-50cf-4d17-fdb5-e8eb29e0bcd0"
      },
      "source": [
        "regr = skl_lm.LogisticRegression()\n",
        "regr.fit(X_train, y_train)"
      ],
      "execution_count": null,
      "outputs": [
        {
          "output_type": "stream",
          "text": [
            "/usr/local/lib/python3.6/dist-packages/sklearn/linear_model/_logistic.py:940: ConvergenceWarning: lbfgs failed to converge (status=1):\n",
            "STOP: TOTAL NO. of ITERATIONS REACHED LIMIT.\n",
            "\n",
            "Increase the number of iterations (max_iter) or scale the data as shown in:\n",
            "    https://scikit-learn.org/stable/modules/preprocessing.html\n",
            "Please also refer to the documentation for alternative solver options:\n",
            "    https://scikit-learn.org/stable/modules/linear_model.html#logistic-regression\n",
            "  extra_warning_msg=_LOGISTIC_SOLVER_CONVERGENCE_MSG)\n"
          ],
          "name": "stderr"
        },
        {
          "output_type": "execute_result",
          "data": {
            "text/plain": [
              "LogisticRegression(C=1.0, class_weight=None, dual=False, fit_intercept=True,\n",
              "                   intercept_scaling=1, l1_ratio=None, max_iter=100,\n",
              "                   multi_class='auto', n_jobs=None, penalty='l2',\n",
              "                   random_state=None, solver='lbfgs', tol=0.0001, verbose=0,\n",
              "                   warm_start=False)"
            ]
          },
          "metadata": {
            "tags": []
          },
          "execution_count": 60
        }
      ]
    },
    {
      "cell_type": "code",
      "metadata": {
        "id": "m0Mf44bSG01g",
        "colab_type": "code",
        "colab": {
          "base_uri": "https://localhost:8080/",
          "height": 243
        },
        "outputId": "efc5f56b-5672-4d22-fb04-f88dca0999d9"
      },
      "source": [
        "pred = regr.predict(X_test)\n",
        "cm_df = pd.DataFrame(confusion_matrix(y_test, pred).T, index=regr.classes_,\n",
        "                     columns=regr.classes_)\n",
        "cm_df.index.name = 'Predicted'\n",
        "cm_df.columns.name = 'True'\n",
        "print(cm_df)\n",
        "print(classification_report(y_test, pred))"
      ],
      "execution_count": null,
      "outputs": [
        {
          "output_type": "stream",
          "text": [
            "True        No  Yes\n",
            "Predicted          \n",
            "No         935   59\n",
            "Yes          6    0\n",
            "              precision    recall  f1-score   support\n",
            "\n",
            "          No       0.94      0.99      0.97       941\n",
            "         Yes       0.00      0.00      0.00        59\n",
            "\n",
            "    accuracy                           0.94      1000\n",
            "   macro avg       0.47      0.50      0.48      1000\n",
            "weighted avg       0.89      0.94      0.91      1000\n",
            "\n"
          ],
          "name": "stdout"
        }
      ]
    },
    {
      "cell_type": "code",
      "metadata": {
        "id": "f-1iJMQvG01g",
        "colab_type": "code",
        "colab": {
          "base_uri": "https://localhost:8080/",
          "height": 243
        },
        "outputId": "30436df8-fcd4-4cb0-f49a-b61c409fd310"
      },
      "source": [
        "pred_p = regr.predict_proba(X_test)\n",
        "cm_df = pd.DataFrame({'True': y_test, 'Pred': pred_p[:,1] > .25})\n",
        "cm_df.Pred.replace(to_replace={True:'Yes', False:'No'}, inplace=True)\n",
        "print(cm_df.groupby(['True', 'Pred']).size().unstack('True').T)\n",
        "print(classification_report(y_test, cm_df.Pred))"
      ],
      "execution_count": null,
      "outputs": [
        {
          "output_type": "stream",
          "text": [
            "Pred   No  Yes\n",
            "True          \n",
            "No    918   23\n",
            "Yes    48   11\n",
            "              precision    recall  f1-score   support\n",
            "\n",
            "          No       0.95      0.98      0.96       941\n",
            "         Yes       0.32      0.19      0.24        59\n",
            "\n",
            "    accuracy                           0.93      1000\n",
            "   macro avg       0.64      0.58      0.60      1000\n",
            "weighted avg       0.91      0.93      0.92      1000\n",
            "\n"
          ],
          "name": "stdout"
        }
      ]
    }
  ]
}